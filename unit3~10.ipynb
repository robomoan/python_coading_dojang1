{
  "nbformat": 4,
  "nbformat_minor": 0,
  "metadata": {
    "colab": {
      "name": "unit3 ~",
      "version": "0.3.2",
      "provenance": [],
      "collapsed_sections": [
        "NcjxjW3dJxJy"
      ],
      "include_colab_link": true
    },
    "kernelspec": {
      "name": "python3",
      "display_name": "Python 3"
    }
  },
  "cells": [
    {
      "cell_type": "markdown",
      "metadata": {
        "id": "view-in-github",
        "colab_type": "text"
      },
      "source": [
        "<a href=\"https://colab.research.google.com/github/robomoan/python_coading_dojang1/blob/master/unit3_~.ipynb\" target=\"_parent\"><img src=\"https://colab.research.google.com/assets/colab-badge.svg\" alt=\"Open In Colab\"/></a>"
      ]
    },
    {
      "cell_type": "markdown",
      "metadata": {
        "id": "3MW6JDew7V39",
        "colab_type": "text"
      },
      "source": [
        "#Unit3. Hello World! 로 시작하기"
      ]
    },
    {
      "cell_type": "markdown",
      "metadata": {
        "id": "a527uEbw701H",
        "colab_type": "text"
      },
      "source": [
        "##IDLE에서 Hello World! 출력해보기"
      ]
    },
    {
      "cell_type": "code",
      "metadata": {
        "id": "anrHyVSC8CFe",
        "colab_type": "code",
        "outputId": "1bdf2b78-4b5f-42b9-cbcc-2f62f14eaf05",
        "colab": {
          "base_uri": "https://localhost:8080/",
          "height": 35
        }
      },
      "source": [
        "print(\"Hello World!\")"
      ],
      "execution_count": 0,
      "outputs": [
        {
          "output_type": "stream",
          "text": [
            "Hello World!\n"
          ],
          "name": "stdout"
        }
      ]
    },
    {
      "cell_type": "markdown",
      "metadata": {
        "id": "zHL0-9XH9pQI",
        "colab_type": "text"
      },
      "source": [
        "코드를 한 줄 한 줄 실행해서 결과를 얻는 방식 → 인터프리터\n",
        "<br>Python Shell: IDLE 처럼 파이썬 코드를 직접 입력해서 실행하는 프로그램\n",
        "<br>Python Prompt\n",
        "<br>Python Shell은 인터프리터와 대화하듯이 코드를 처리함: 대화형 셸, Interactive mode\n",
        "<br>REPL 방식 (Read-Eval-Print Loop)\n"
      ]
    },
    {
      "cell_type": "code",
      "metadata": {
        "id": "9x1SRKMm97Gw",
        "colab_type": "code",
        "outputId": "668e0515-fa34-4561-ed61-d62862188473",
        "colab": {
          "base_uri": "https://localhost:8080/",
          "height": 134
        }
      },
      "source": [
        "print(Hello World!)"
      ],
      "execution_count": 0,
      "outputs": [
        {
          "output_type": "error",
          "ename": "SyntaxError",
          "evalue": "ignored",
          "traceback": [
            "\u001b[0;36m  File \u001b[0;32m\"<ipython-input-2-898d2b40ca9e>\"\u001b[0;36m, line \u001b[0;32m1\u001b[0m\n\u001b[0;31m    print(Hello World!)\u001b[0m\n\u001b[0m                    ^\u001b[0m\n\u001b[0;31mSyntaxError\u001b[0m\u001b[0;31m:\u001b[0m invalid syntax\n"
          ]
        }
      ]
    },
    {
      "cell_type": "markdown",
      "metadata": {
        "id": "WLzR0YvT_xxc",
        "colab_type": "text"
      },
      "source": [
        "따옴표를 넣지 않을 경우 오류 발생"
      ]
    },
    {
      "cell_type": "markdown",
      "metadata": {
        "id": "ltOS_oqsCI5r",
        "colab_type": "text"
      },
      "source": [
        "##명령프롬프트에서 Python 실행하기"
      ]
    },
    {
      "cell_type": "markdown",
      "metadata": {
        "id": "9c6XCTc4CQVd",
        "colab_type": "text"
      },
      "source": [
        "Python 설치할 때 Add Python 3.X to PATH 에 체크"
      ]
    },
    {
      "cell_type": "markdown",
      "metadata": {
        "id": "yPlGwuUMegzK",
        "colab_type": "text"
      },
      "source": [
        "##소스코드\n",
        "단어 뒤에 괄호 ()가 붙은 것: 함수(function)\n",
        "<br>함수를 '호출(call)'한다."
      ]
    },
    {
      "cell_type": "markdown",
      "metadata": {
        "id": "6rH-xzgcn_AA",
        "colab_type": "text"
      },
      "source": [
        "#Unit4. 기본 문법\n",
        "##세미콜론"
      ]
    },
    {
      "cell_type": "code",
      "metadata": {
        "id": "5G2atrAOAqXy",
        "colab_type": "code",
        "outputId": "ed29a81a-e3f1-4ce8-951b-2816e2afde8c",
        "colab": {
          "base_uri": "https://localhost:8080/",
          "height": 71
        }
      },
      "source": [
        "print('Hello, World!')\n",
        "print('Wow'); print('Good!')"
      ],
      "execution_count": 0,
      "outputs": [
        {
          "output_type": "stream",
          "text": [
            "Hello, World!\n",
            "Wow\n",
            "Good!\n"
          ],
          "name": "stdout"
        }
      ]
    },
    {
      "cell_type": "markdown",
      "metadata": {
        "id": "gL9NwoCmpMoC",
        "colab_type": "text"
      },
      "source": [
        "파이썬은 구문 끝에 세미콜론을 붙이지 않음.\n",
        "<br>세미콜론은 한 줄에 여러 구문을 작성할 때 사용."
      ]
    },
    {
      "cell_type": "markdown",
      "metadata": {
        "id": "czKJcMgksGpP",
        "colab_type": "text"
      },
      "source": [
        "##주석"
      ]
    },
    {
      "cell_type": "code",
      "metadata": {
        "id": "9O9gh41UonNk",
        "colab_type": "code",
        "outputId": "933b1083-2af7-456f-f502-3f4e16ac1117",
        "colab": {
          "base_uri": "https://localhost:8080/",
          "height": 35
        }
      },
      "source": [
        "# print('Hello World!')\n",
        "a = 1 + 2 # 더하기\n",
        "print(a)"
      ],
      "execution_count": 0,
      "outputs": [
        {
          "output_type": "stream",
          "text": [
            "3\n"
          ],
          "name": "stdout"
        }
      ]
    },
    {
      "cell_type": "markdown",
      "metadata": {
        "id": "KeEXPw1Ssudb",
        "colab_type": "text"
      },
      "source": [
        "주석은 코드 앞에 #를 단다. #뒤의 모든 명령어는 실행되지 않는다.\n",
        "<br>한글 주석은 UTF-8 인코딩만을 지원한다. 한글 주석이 깨질 경우 다른 인코딩일 수 있으니 UTF-8 인코딩으로 다시 저장한다."
      ]
    },
    {
      "cell_type": "markdown",
      "metadata": {
        "id": "fztZM5wYtfTT",
        "colab_type": "text"
      },
      "source": [
        "##들여쓰기\n",
        "if 문 등에는 들여쓰기를 사용하지 않으면 문법오류\n",
        "<br>들여쓰기 방법에는 공백 2칸, 공백 4칸, Tab 1칸이 있다.\n",
        "<br>파이썬은 들여쓰기를 기준으로 코드블럭을 형성한다. 단 같은 코드블록은 들여쓰기 칸 수가 같아야 한다. "
      ]
    },
    {
      "cell_type": "code",
      "metadata": {
        "id": "P_d_GCDguPHg",
        "colab_type": "code",
        "colab": {}
      },
      "source": [
        "if a == 10:\n",
        "  print('10')\n",
        "  print('입니다')"
      ],
      "execution_count": 0,
      "outputs": []
    },
    {
      "cell_type": "markdown",
      "metadata": {
        "id": "WYK0zA83cYCw",
        "colab_type": "text"
      },
      "source": [
        "#Unit5. 숫자 계산하기\n",
        "##정수 계산하기\n",
        "숫자 자료형: 정수(int), 실수(float), 복소수(complex)\n"
      ]
    },
    {
      "cell_type": "code",
      "metadata": {
        "id": "D42LP8XNuXVi",
        "colab_type": "code",
        "outputId": "02876947-fb84-4b31-811f-8be5a02761fd",
        "colab": {
          "base_uri": "https://localhost:8080/",
          "height": 35
        }
      },
      "source": [
        "1 + 1 #덧셈"
      ],
      "execution_count": 0,
      "outputs": [
        {
          "output_type": "execute_result",
          "data": {
            "text/plain": [
              "2"
            ]
          },
          "metadata": {
            "tags": []
          },
          "execution_count": 2
        }
      ]
    },
    {
      "cell_type": "code",
      "metadata": {
        "id": "GbM-u5BRdFUS",
        "colab_type": "code",
        "outputId": "e0fa5ea8-c292-4c66-c455-cb5a49656182",
        "colab": {
          "base_uri": "https://localhost:8080/",
          "height": 35
        }
      },
      "source": [
        "2 - 1 #뺄셈"
      ],
      "execution_count": 0,
      "outputs": [
        {
          "output_type": "execute_result",
          "data": {
            "text/plain": [
              "1"
            ]
          },
          "metadata": {
            "tags": []
          },
          "execution_count": 3
        }
      ]
    },
    {
      "cell_type": "code",
      "metadata": {
        "id": "MQGmysZSdQyx",
        "colab_type": "code",
        "outputId": "922ce432-c13b-4a21-c614-120542ff5a53",
        "colab": {
          "base_uri": "https://localhost:8080/",
          "height": 35
        }
      },
      "source": [
        "3 * 5 #곱셈"
      ],
      "execution_count": 0,
      "outputs": [
        {
          "output_type": "execute_result",
          "data": {
            "text/plain": [
              "15"
            ]
          },
          "metadata": {
            "tags": []
          },
          "execution_count": 4
        }
      ]
    },
    {
      "cell_type": "code",
      "metadata": {
        "id": "PMWaEdqtdS9Z",
        "colab_type": "code",
        "outputId": "4f875903-424e-4e73-a609-53af2f595fbe",
        "colab": {
          "base_uri": "https://localhost:8080/",
          "height": 35
        }
      },
      "source": [
        "5 / 2 #나눗셈\n",
        "# Python3 에서는 정수의 나눗셈 연산은 실수 값이 나옴"
      ],
      "execution_count": 0,
      "outputs": [
        {
          "output_type": "execute_result",
          "data": {
            "text/plain": [
              "2.5"
            ]
          },
          "metadata": {
            "tags": []
          },
          "execution_count": 6
        }
      ]
    },
    {
      "cell_type": "code",
      "metadata": {
        "id": "yvdi4cUCdWKW",
        "colab_type": "code",
        "outputId": "fdff2910-d46f-48bf-9518-6f86bd1b4ada",
        "colab": {
          "base_uri": "https://localhost:8080/",
          "height": 35
        }
      },
      "source": [
        "6 / 3 #나누어 떨어지는 값도 실수 값이 나옴"
      ],
      "execution_count": 0,
      "outputs": [
        {
          "output_type": "execute_result",
          "data": {
            "text/plain": [
              "2.0"
            ]
          },
          "metadata": {
            "tags": []
          },
          "execution_count": 7
        }
      ]
    },
    {
      "cell_type": "code",
      "metadata": {
        "id": "-CYSJXkGdrtG",
        "colab_type": "code",
        "outputId": "1b53b656-1f9f-43d2-fe25-35de1c8b7c77",
        "colab": {
          "base_uri": "https://localhost:8080/",
          "height": 35
        }
      },
      "source": [
        "5 // 2 # 정수의 나눗셈 소수점 아래를 버리고 정수값을 출력\n",
        "\n",
        "# 이 연산을 버림 나눗셈(floor division)이라고 한다."
      ],
      "execution_count": 0,
      "outputs": [
        {
          "output_type": "execute_result",
          "data": {
            "text/plain": [
              "2"
            ]
          },
          "metadata": {
            "tags": []
          },
          "execution_count": 11
        }
      ]
    },
    {
      "cell_type": "code",
      "metadata": {
        "id": "5dXo7Ox7d-sh",
        "colab_type": "code",
        "outputId": "761031d7-8a28-40a4-d178-0e88aa857890",
        "colab": {
          "base_uri": "https://localhost:8080/",
          "height": 35
        }
      },
      "source": [
        "12.5 // 5 # 단 실수의 나눗셈 후 소수점 아래를 버리는 연산자는 실수값을 출력한다."
      ],
      "execution_count": 0,
      "outputs": [
        {
          "output_type": "execute_result",
          "data": {
            "text/plain": [
              "2.0"
            ]
          },
          "metadata": {
            "tags": []
          },
          "execution_count": 10
        }
      ]
    },
    {
      "cell_type": "code",
      "metadata": {
        "id": "O_UNxFl5evM-",
        "colab_type": "code",
        "outputId": "8e98affa-796f-4559-dd52-3eec39a51c0d",
        "colab": {
          "base_uri": "https://localhost:8080/",
          "height": 35
        }
      },
      "source": [
        "7 % 3 # 나눗셈 후 나머지를 구하는 연산자"
      ],
      "execution_count": 0,
      "outputs": [
        {
          "output_type": "execute_result",
          "data": {
            "text/plain": [
              "1"
            ]
          },
          "metadata": {
            "tags": []
          },
          "execution_count": 12
        }
      ]
    },
    {
      "cell_type": "code",
      "metadata": {
        "id": "YRvM9pQhiBJ_",
        "colab_type": "code",
        "outputId": "739fe318-26a6-40e9-fec5-6a1802c61257",
        "colab": {
          "base_uri": "https://localhost:8080/",
          "height": 35
        }
      },
      "source": [
        "2 ** 10 # 거듭제곱"
      ],
      "execution_count": 0,
      "outputs": [
        {
          "output_type": "execute_result",
          "data": {
            "text/plain": [
              "1024"
            ]
          },
          "metadata": {
            "tags": []
          },
          "execution_count": 15
        }
      ]
    },
    {
      "cell_type": "code",
      "metadata": {
        "id": "XT5VxMUXhCo4",
        "colab_type": "code",
        "outputId": "fe23aea4-ddb8-48e4-b326-717d717d93ee",
        "colab": {
          "base_uri": "https://localhost:8080/",
          "height": 35
        }
      },
      "source": [
        "int(6 / 3) # 값을 강제로 정수로 만들기"
      ],
      "execution_count": 0,
      "outputs": [
        {
          "output_type": "execute_result",
          "data": {
            "text/plain": [
              "2"
            ]
          },
          "metadata": {
            "tags": []
          },
          "execution_count": 13
        }
      ]
    },
    {
      "cell_type": "code",
      "metadata": {
        "id": "6SZVH5JThQpg",
        "colab_type": "code",
        "outputId": "ffa1e6d5-2cb5-4058-e3d0-277acc916d56",
        "colab": {
          "base_uri": "https://localhost:8080/",
          "height": 35
        }
      },
      "source": [
        "type(10) # 객체의 자료형 알아내기"
      ],
      "execution_count": 0,
      "outputs": [
        {
          "output_type": "execute_result",
          "data": {
            "text/plain": [
              "int"
            ]
          },
          "metadata": {
            "tags": []
          },
          "execution_count": 14
        }
      ]
    },
    {
      "cell_type": "markdown",
      "metadata": {
        "id": "xnjVngvli6eP",
        "colab_type": "text"
      },
      "source": [
        "##실수 계산하기"
      ]
    },
    {
      "cell_type": "code",
      "metadata": {
        "id": "Y_qrKA0oh8iQ",
        "colab_type": "code",
        "outputId": "7a2c9712-ac82-4ff6-9d13-ae58eaf27b74",
        "colab": {
          "base_uri": "https://localhost:8080/",
          "height": 35
        }
      },
      "source": [
        "4.3 - 2.7 # 왜 오차가 발생할까?"
      ],
      "execution_count": 0,
      "outputs": [
        {
          "output_type": "execute_result",
          "data": {
            "text/plain": [
              "1.5999999999999996"
            ]
          },
          "metadata": {
            "tags": []
          },
          "execution_count": 17
        }
      ]
    },
    {
      "cell_type": "code",
      "metadata": {
        "id": "GukqEPVdi3es",
        "colab_type": "code",
        "outputId": "8f32f8fc-f685-4eed-c4bf-1eae69b11cc8",
        "colab": {
          "base_uri": "https://localhost:8080/",
          "height": 35
        }
      },
      "source": [
        "0.1 + 0.2 == 0.3"
      ],
      "execution_count": 0,
      "outputs": [
        {
          "output_type": "execute_result",
          "data": {
            "text/plain": [
              "False"
            ]
          },
          "metadata": {
            "tags": []
          },
          "execution_count": 19
        }
      ]
    },
    {
      "cell_type": "code",
      "metadata": {
        "id": "9Nue5ycGj1Dc",
        "colab_type": "code",
        "outputId": "665515c4-a3c2-4277-fde1-15fdbf89a745",
        "colab": {
          "base_uri": "https://localhost:8080/",
          "height": 35
        }
      },
      "source": [
        "float(5) # 값을 강제로 실수값으로 변환"
      ],
      "execution_count": 0,
      "outputs": [
        {
          "output_type": "execute_result",
          "data": {
            "text/plain": [
              "5.0"
            ]
          },
          "metadata": {
            "tags": []
          },
          "execution_count": 1
        }
      ]
    },
    {
      "cell_type": "markdown",
      "metadata": {
        "id": "jtC8dRslsePZ",
        "colab_type": "text"
      },
      "source": [
        "파이썬 셀은 결과를 즉시 보는 용도 1 + 1이 바로 출력되지만 파이썬 스크립트에서는 출력이 되지 않음\n",
        "<br>스크립트 파일에서 계산 결과를 출력하기 위해서는 print(1 + 1)을 사용해야 함."
      ]
    },
    {
      "cell_type": "markdown",
      "metadata": {
        "id": "OF8E-JsqtGCB",
        "colab_type": "text"
      },
      "source": [
        "#Unit6. 변수와 입력 사용하기\n",
        "##변수 만들기\n"
      ]
    },
    {
      "cell_type": "code",
      "metadata": {
        "id": "9N1Vj-wisU1f",
        "colab_type": "code",
        "outputId": "cac5b796-79e4-4161-b77d-5c96467aa01d",
        "colab": {
          "base_uri": "https://localhost:8080/",
          "height": 35
        }
      },
      "source": [
        "x = 10; y = 'Hello World!'\n",
        "type(x)"
      ],
      "execution_count": 0,
      "outputs": [
        {
          "output_type": "execute_result",
          "data": {
            "text/plain": [
              "int"
            ]
          },
          "metadata": {
            "tags": []
          },
          "execution_count": 8
        }
      ]
    },
    {
      "cell_type": "code",
      "metadata": {
        "id": "gQgbBrUiteIG",
        "colab_type": "code",
        "outputId": "6231cb8d-db58-49cd-f68b-805d13f25f5f",
        "colab": {
          "base_uri": "https://localhost:8080/",
          "height": 35
        }
      },
      "source": [
        "type(y)"
      ],
      "execution_count": 0,
      "outputs": [
        {
          "output_type": "execute_result",
          "data": {
            "text/plain": [
              "str"
            ]
          },
          "metadata": {
            "tags": []
          },
          "execution_count": 5
        }
      ]
    },
    {
      "cell_type": "code",
      "metadata": {
        "id": "OG3GCupwtmb-",
        "colab_type": "code",
        "outputId": "5b3616bc-d318-4de8-f1f6-42a02da56368",
        "colab": {
          "base_uri": "https://localhost:8080/",
          "height": 35
        }
      },
      "source": [
        "x += 20 # x = x + 20 과 같은 의미\n",
        "x"
      ],
      "execution_count": 0,
      "outputs": [
        {
          "output_type": "execute_result",
          "data": {
            "text/plain": [
              "30"
            ]
          },
          "metadata": {
            "tags": []
          },
          "execution_count": 9
        }
      ]
    },
    {
      "cell_type": "code",
      "metadata": {
        "id": "i0ivh0qwtpUW",
        "colab_type": "code",
        "outputId": "f9c546ef-ab96-4dd2-8c4e-6a5d33029c8f",
        "colab": {
          "base_uri": "https://localhost:8080/",
          "height": 190
        }
      },
      "source": [
        "del x # 변수 삭제는 del 함수를 사용\n",
        "x"
      ],
      "execution_count": 0,
      "outputs": [
        {
          "output_type": "error",
          "ename": "NameError",
          "evalue": "ignored",
          "traceback": [
            "\u001b[0;31m---------------------------------------------------------------------------\u001b[0m",
            "\u001b[0;31mNameError\u001b[0m                                 Traceback (most recent call last)",
            "\u001b[0;32m<ipython-input-10-1beca76b84e9>\u001b[0m in \u001b[0;36m<module>\u001b[0;34m()\u001b[0m\n\u001b[1;32m      1\u001b[0m \u001b[0;32mdel\u001b[0m \u001b[0mx\u001b[0m\u001b[0;34m\u001b[0m\u001b[0;34m\u001b[0m\u001b[0m\n\u001b[0;32m----> 2\u001b[0;31m \u001b[0mx\u001b[0m\u001b[0;34m\u001b[0m\u001b[0;34m\u001b[0m\u001b[0m\n\u001b[0m",
            "\u001b[0;31mNameError\u001b[0m: name 'x' is not defined"
          ]
        }
      ]
    },
    {
      "cell_type": "code",
      "metadata": {
        "id": "-gEgHjc1uCb2",
        "colab_type": "code",
        "outputId": "e601eb64-a98d-40a2-9687-75ccc96e466b",
        "colab": {
          "base_uri": "https://localhost:8080/",
          "height": 35
        }
      },
      "source": [
        "z = None # 빈 변수 만들기\n",
        "print(z)"
      ],
      "execution_count": 0,
      "outputs": [
        {
          "output_type": "stream",
          "text": [
            "None\n"
          ],
          "name": "stdout"
        }
      ]
    },
    {
      "cell_type": "code",
      "metadata": {
        "id": "YgbjaOV-uU2X",
        "colab_type": "code",
        "colab": {}
      },
      "source": [
        "z"
      ],
      "execution_count": 0,
      "outputs": []
    },
    {
      "cell_type": "markdown",
      "metadata": {
        "id": "SyHfv7-UvcE_",
        "colab_type": "text"
      },
      "source": [
        "##Input 함수 사용하기\n",
        "입력 값을 변수에 저장하는 함수"
      ]
    },
    {
      "cell_type": "code",
      "metadata": {
        "id": "4yvaY1qxuVm4",
        "colab_type": "code",
        "outputId": "e1b06169-15f6-4af1-a740-936cfbbaa152",
        "colab": {
          "base_uri": "https://localhost:8080/",
          "height": 53
        }
      },
      "source": [
        "input()"
      ],
      "execution_count": 0,
      "outputs": [
        {
          "output_type": "stream",
          "text": [
            "x\n"
          ],
          "name": "stdout"
        },
        {
          "output_type": "execute_result",
          "data": {
            "text/plain": [
              "'x'"
            ]
          },
          "metadata": {
            "tags": []
          },
          "execution_count": 13
        }
      ]
    },
    {
      "cell_type": "code",
      "metadata": {
        "id": "juMyB5YzJ3cw",
        "colab_type": "code",
        "outputId": "08bcd678-057d-46a1-85ff-de59947b6d09",
        "colab": {
          "base_uri": "https://localhost:8080/",
          "height": 53
        }
      },
      "source": [
        "input('문자열을 입력하세요: ')"
      ],
      "execution_count": 0,
      "outputs": [
        {
          "output_type": "stream",
          "text": [
            "문자열을 입력하세요: x\n"
          ],
          "name": "stdout"
        },
        {
          "output_type": "execute_result",
          "data": {
            "text/plain": [
              "'x'"
            ]
          },
          "metadata": {
            "tags": []
          },
          "execution_count": 16
        }
      ]
    },
    {
      "cell_type": "code",
      "metadata": {
        "id": "BSHrgjWpJ9ju",
        "colab_type": "code",
        "outputId": "33ffb911-b46f-4105-c44f-58de73de4122",
        "colab": {
          "base_uri": "https://localhost:8080/",
          "height": 71
        }
      },
      "source": [
        "a = input('숫자를 입력하세요: ')\n",
        "b = input('숫자를 입력하세요: ')\n",
        "\n",
        "print(a + b) # 왜 그럴까?"
      ],
      "execution_count": 0,
      "outputs": [
        {
          "output_type": "stream",
          "text": [
            "숫자를 입력하세요: 40\n",
            "숫자를 입력하세요: 30\n",
            "4030\n"
          ],
          "name": "stdout"
        }
      ]
    },
    {
      "cell_type": "markdown",
      "metadata": {
        "id": "qV6CQqPZKj37",
        "colab_type": "text"
      },
      "source": [
        "Input 값은 항상 문자열(string)이다."
      ]
    },
    {
      "cell_type": "code",
      "metadata": {
        "id": "B-wEaalJKbAG",
        "colab_type": "code",
        "outputId": "81211841-b66f-403f-81c4-6eb96abcc996",
        "colab": {
          "base_uri": "https://localhost:8080/",
          "height": 53
        }
      },
      "source": [
        "a = input()\n",
        "type(a)"
      ],
      "execution_count": 0,
      "outputs": [
        {
          "output_type": "stream",
          "text": [
            "10\n"
          ],
          "name": "stdout"
        },
        {
          "output_type": "execute_result",
          "data": {
            "text/plain": [
              "str"
            ]
          },
          "metadata": {
            "tags": []
          },
          "execution_count": 18
        }
      ]
    },
    {
      "cell_type": "code",
      "metadata": {
        "id": "iD-YdQUALBf-",
        "colab_type": "code",
        "outputId": "1a88c7d7-977e-4b20-8aec-8fcbbc922b02",
        "colab": {
          "base_uri": "https://localhost:8080/",
          "height": 71
        }
      },
      "source": [
        "a = int(input('숫자를 입력하세요: ')) # 제대로 더하려면\n",
        "b = int(input('숫자를 입력하세요: ')) # 실수를 더하려면 int 대신에 float 함수를 사용하면 된다.\n",
        "print(a + b)"
      ],
      "execution_count": 0,
      "outputs": [
        {
          "output_type": "stream",
          "text": [
            "숫자를 입력하세요: 40\n",
            "숫자를 입력하세요: 30\n",
            "70\n"
          ],
          "name": "stdout"
        }
      ]
    },
    {
      "cell_type": "markdown",
      "metadata": {
        "id": "xh-e5jR2L0bA",
        "colab_type": "text"
      },
      "source": [
        "##입력값을 변수 두 개에 저장하기\n",
        "변수1, 변수2 = input('문자열').split('기준 문자열')"
      ]
    },
    {
      "cell_type": "code",
      "metadata": {
        "id": "G-emItFxLTBm",
        "colab_type": "code",
        "outputId": "1f516256-1669-43db-8e5b-5e98b0cb6417",
        "colab": {
          "base_uri": "https://localhost:8080/",
          "height": 53
        }
      },
      "source": [
        "a, b = input('문자열 두 개를 입력하세요: ').split()\n",
        "print(a + b) # 문자열은 split으로 분리해도 문자열 "
      ],
      "execution_count": 0,
      "outputs": [
        {
          "output_type": "stream",
          "text": [
            "문자열 두 개를 입력하세요: 10 20\n",
            "1020\n"
          ],
          "name": "stdout"
        }
      ]
    },
    {
      "cell_type": "code",
      "metadata": {
        "id": "YSZYoPNEMxht",
        "colab_type": "code",
        "outputId": "687db90f-409b-4284-88ab-ad7cd7af1c69",
        "colab": {
          "base_uri": "https://localhost:8080/",
          "height": 53
        }
      },
      "source": [
        "a, b = input('문자열 두 개를 입력하세요: ').split()\n",
        "print(int(a) + int(b)) # 숫자로 더하려면 정수로 변환"
      ],
      "execution_count": 0,
      "outputs": [
        {
          "output_type": "stream",
          "text": [
            "문자열 두 개를 입력하세요: 10 20\n",
            "30\n"
          ],
          "name": "stdout"
        }
      ]
    },
    {
      "cell_type": "code",
      "metadata": {
        "id": "HMnFp_UHAAvm",
        "colab_type": "code",
        "outputId": "deb83925-a19f-48f8-d047-c75de143e6b3",
        "colab": {
          "base_uri": "https://localhost:8080/",
          "height": 53
        }
      },
      "source": [
        "a, b = map(int, input('문자열 두 개를 입력하세요: ').split()) # 문자열을 한번에 지수로 바꾸는 방법 map함수\n",
        "print(a + b)"
      ],
      "execution_count": 0,
      "outputs": [
        {
          "output_type": "stream",
          "text": [
            "문자열 두 개를 입력하세요: 10 20\n",
            "30\n"
          ],
          "name": "stdout"
        }
      ]
    },
    {
      "cell_type": "markdown",
      "metadata": {
        "id": "vgctJqWUCW8-",
        "colab_type": "text"
      },
      "source": [
        "#Unit7. 출력 방법 알아보기\n",
        "##값을 여러 개 출력하기"
      ]
    },
    {
      "cell_type": "code",
      "metadata": {
        "id": "qo1Jj6uzBf99",
        "colab_type": "code",
        "outputId": "7e00952a-1e91-4cc1-ebfa-5999b02fccf9",
        "colab": {
          "base_uri": "https://localhost:8080/",
          "height": 35
        }
      },
      "source": [
        "print(a, b, 20)"
      ],
      "execution_count": 0,
      "outputs": [
        {
          "output_type": "stream",
          "text": [
            "10 20 20\n"
          ],
          "name": "stdout"
        }
      ]
    },
    {
      "cell_type": "code",
      "metadata": {
        "id": "n22UB5huCNT8",
        "colab_type": "code",
        "outputId": "8ac23b1c-a4ab-491e-bd1a-1a7d7c75a414",
        "colab": {
          "base_uri": "https://localhost:8080/",
          "height": 35
        }
      },
      "source": [
        "print(a, b, 20, sep='')"
      ],
      "execution_count": 0,
      "outputs": [
        {
          "output_type": "stream",
          "text": [
            "102020\n"
          ],
          "name": "stdout"
        }
      ]
    },
    {
      "cell_type": "code",
      "metadata": {
        "id": "VLgJL2yxCR-0",
        "colab_type": "code",
        "outputId": "b085a26c-6d7b-409f-fb22-2fc91dcbe92e",
        "colab": {
          "base_uri": "https://localhost:8080/",
          "height": 35
        }
      },
      "source": [
        "print(a, b, 20, sep=', ')"
      ],
      "execution_count": 0,
      "outputs": [
        {
          "output_type": "stream",
          "text": [
            "10, 20, 20\n"
          ],
          "name": "stdout"
        }
      ]
    },
    {
      "cell_type": "code",
      "metadata": {
        "id": "tiLk5Zw1CVds",
        "colab_type": "code",
        "outputId": "4bba8d38-203d-45e1-943e-39783ac4cda9",
        "colab": {
          "base_uri": "https://localhost:8080/",
          "height": 35
        }
      },
      "source": [
        "print(1920, 1080, sep='x')"
      ],
      "execution_count": 0,
      "outputs": [
        {
          "output_type": "stream",
          "text": [
            "1920x1080\n"
          ],
          "name": "stdout"
        }
      ]
    },
    {
      "cell_type": "markdown",
      "metadata": {
        "id": "Y_uXhwGwDGer",
        "colab_type": "text"
      },
      "source": [
        "##제어 문자"
      ]
    },
    {
      "cell_type": "code",
      "metadata": {
        "id": "_-IQm-IvCxn8",
        "colab_type": "code",
        "outputId": "c7766833-e396-4352-d2c7-19c559bd0923",
        "colab": {
          "base_uri": "https://localhost:8080/",
          "height": 71
        }
      },
      "source": [
        "print(1, 2, 3, sep='\\n')"
      ],
      "execution_count": 0,
      "outputs": [
        {
          "output_type": "stream",
          "text": [
            "1\n",
            "2\n",
            "3\n"
          ],
          "name": "stdout"
        }
      ]
    },
    {
      "cell_type": "code",
      "metadata": {
        "id": "Q4dKbSwLDOHM",
        "colab_type": "code",
        "outputId": "3b8c41e9-615e-41d7-f28d-174070737859",
        "colab": {
          "base_uri": "https://localhost:8080/",
          "height": 136
        }
      },
      "source": [
        "print(1\\n2\\n3) # 제어 문자는 '문자'"
      ],
      "execution_count": 0,
      "outputs": [
        {
          "output_type": "error",
          "ename": "SyntaxError",
          "evalue": "ignored",
          "traceback": [
            "\u001b[0;36m  File \u001b[0;32m\"<ipython-input-13-0933191a107b>\"\u001b[0;36m, line \u001b[0;32m1\u001b[0m\n\u001b[0;31m    print(1\\n2\\n3)\u001b[0m\n\u001b[0m                  ^\u001b[0m\n\u001b[0;31mSyntaxError\u001b[0m\u001b[0;31m:\u001b[0m unexpected character after line continuation character\n"
          ]
        }
      ]
    },
    {
      "cell_type": "code",
      "metadata": {
        "id": "qkET2mRfDQKE",
        "colab_type": "code",
        "outputId": "071d868d-6310-4ade-b618-fb0658a11400",
        "colab": {
          "base_uri": "https://localhost:8080/",
          "height": 71
        }
      },
      "source": [
        "print('1\\n2\\n3') # 문자열에서 사용하면 가능"
      ],
      "execution_count": 0,
      "outputs": [
        {
          "output_type": "stream",
          "text": [
            "1\n",
            "2\n",
            "3\n"
          ],
          "name": "stdout"
        }
      ]
    },
    {
      "cell_type": "code",
      "metadata": {
        "id": "vwRb7_DvDfJ8",
        "colab_type": "code",
        "outputId": "a33d4666-0a8b-40d0-b654-109d66a5be0b",
        "colab": {
          "base_uri": "https://localhost:8080/",
          "height": 35
        }
      },
      "source": [
        "print('\\\\n') # \\ 문자 자체를 출력할때는 두 번 쓴다."
      ],
      "execution_count": 0,
      "outputs": [
        {
          "output_type": "stream",
          "text": [
            "\\n\n"
          ],
          "name": "stdout"
        }
      ]
    },
    {
      "cell_type": "markdown",
      "metadata": {
        "id": "aua26hG9EDJV",
        "colab_type": "text"
      },
      "source": [
        "##end 활용하기"
      ]
    },
    {
      "cell_type": "code",
      "metadata": {
        "id": "sBcFts0GEKi2",
        "colab_type": "code",
        "outputId": "22cce958-346e-407f-ff3f-7e75fda367a1",
        "colab": {
          "base_uri": "https://localhost:8080/",
          "height": 71
        }
      },
      "source": [
        "print(10)\n",
        "print(20)\n",
        "print(30)"
      ],
      "execution_count": 0,
      "outputs": [
        {
          "output_type": "stream",
          "text": [
            "10\n",
            "20\n",
            "30\n"
          ],
          "name": "stdout"
        }
      ]
    },
    {
      "cell_type": "code",
      "metadata": {
        "id": "2v_XWBEYEQ_E",
        "colab_type": "code",
        "outputId": "380c0130-cad7-4a9e-b027-f824aae7e135",
        "colab": {
          "base_uri": "https://localhost:8080/",
          "height": 35
        }
      },
      "source": [
        "print(10, end='') # print에는 기본적으로 end값에 \\n가 내장 end 값에 공백을 넣으면 \\n가 지워지는 효과\n",
        "print(20, end='')\n",
        "print(30)"
      ],
      "execution_count": 0,
      "outputs": [
        {
          "output_type": "stream",
          "text": [
            "102030\n"
          ],
          "name": "stdout"
        }
      ]
    },
    {
      "cell_type": "code",
      "metadata": {
        "id": "t9NgnBVCEZcM",
        "colab_type": "code",
        "outputId": "f6f1118c-2512-41a2-a0c6-a004092b17b3",
        "colab": {
          "base_uri": "https://localhost:8080/",
          "height": 35
        }
      },
      "source": [
        "print(10, end=' ') # end 값에 한 칸을 띄면 다음과 같이 한 칸씩 띄어진다.\n",
        "print(20, end=' ')\n",
        "print(30)"
      ],
      "execution_count": 0,
      "outputs": [
        {
          "output_type": "stream",
          "text": [
            "10 20 30\n"
          ],
          "name": "stdout"
        }
      ]
    },
    {
      "cell_type": "markdown",
      "metadata": {
        "id": "KqgNByhCXV8W",
        "colab_type": "text"
      },
      "source": [
        "#Unit8. 불과 비교, 논리 연산자 사용하기\n",
        "불은 참(True)과 거짓(False)를 나타내는 값이다.\n",
        "\n"
      ]
    },
    {
      "cell_type": "code",
      "metadata": {
        "id": "700Ln1-vEyIb",
        "colab_type": "code",
        "outputId": "3850cd36-f63a-47b0-a815-bf10246a841c",
        "colab": {
          "base_uri": "https://localhost:8080/",
          "height": 35
        }
      },
      "source": [
        "3 > 1 # 초과"
      ],
      "execution_count": 0,
      "outputs": [
        {
          "output_type": "execute_result",
          "data": {
            "text/plain": [
              "True"
            ]
          },
          "metadata": {
            "tags": []
          },
          "execution_count": 1
        }
      ]
    },
    {
      "cell_type": "code",
      "metadata": {
        "id": "6JuTFNILbTDE",
        "colab_type": "code",
        "outputId": "c042e987-7755-4ded-ab8f-ef04cc409f50",
        "colab": {
          "base_uri": "https://localhost:8080/",
          "height": 35
        }
      },
      "source": [
        "9 >= 9 # 이상"
      ],
      "execution_count": 0,
      "outputs": [
        {
          "output_type": "execute_result",
          "data": {
            "text/plain": [
              "True"
            ]
          },
          "metadata": {
            "tags": []
          },
          "execution_count": 7
        }
      ]
    },
    {
      "cell_type": "code",
      "metadata": {
        "id": "QNdTP7QyZ15w",
        "colab_type": "code",
        "outputId": "5ab23113-3e5e-43df-9288-edd4d5b9e7d0",
        "colab": {
          "base_uri": "https://localhost:8080/",
          "height": 35
        }
      },
      "source": [
        "10 == 10 # 일치"
      ],
      "execution_count": 0,
      "outputs": [
        {
          "output_type": "execute_result",
          "data": {
            "text/plain": [
              "True"
            ]
          },
          "metadata": {
            "tags": []
          },
          "execution_count": 3
        }
      ]
    },
    {
      "cell_type": "code",
      "metadata": {
        "id": "Aq1tbfKjZ-ir",
        "colab_type": "code",
        "outputId": "b195f4c1-b7f7-4a9f-8349-2bb6cfd1e221",
        "colab": {
          "base_uri": "https://localhost:8080/",
          "height": 35
        }
      },
      "source": [
        "10 != 10 # 불일치"
      ],
      "execution_count": 0,
      "outputs": [
        {
          "output_type": "execute_result",
          "data": {
            "text/plain": [
              "False"
            ]
          },
          "metadata": {
            "tags": []
          },
          "execution_count": 5
        }
      ]
    },
    {
      "cell_type": "code",
      "metadata": {
        "id": "1XAeeIRYaCzT",
        "colab_type": "code",
        "outputId": "5e2eba27-4f57-4e03-c8f3-4db54db3a065",
        "colab": {
          "base_uri": "https://localhost:8080/",
          "height": 35
        }
      },
      "source": [
        "'Python' == 'python'"
      ],
      "execution_count": 0,
      "outputs": [
        {
          "output_type": "execute_result",
          "data": {
            "text/plain": [
              "False"
            ]
          },
          "metadata": {
            "tags": []
          },
          "execution_count": 6
        }
      ]
    },
    {
      "cell_type": "markdown",
      "metadata": {
        "id": "NcjxjW3dJxJy",
        "colab_type": "text"
      },
      "source": [
        "#Unit9. 문자열 사용하기\n",
        "문자열은 작은 따옴표, 큰 따옴표, 작은 따옴표 3개, 큰 따옴표 3개 총 4가지의 방법으로 호출할 수 있다."
      ]
    },
    {
      "cell_type": "code",
      "metadata": {
        "id": "XolWGbtYKNPY",
        "colab_type": "code",
        "outputId": "60002493-aa71-453a-8fd9-14004b939a2c",
        "colab": {
          "base_uri": "https://localhost:8080/",
          "height": 35
        }
      },
      "source": [
        "a = 'He said \"Python is not difficult.\"'\n",
        "a"
      ],
      "execution_count": 0,
      "outputs": [
        {
          "output_type": "execute_result",
          "data": {
            "text/plain": [
              "'He said \"Python is not difficult.\"'"
            ]
          },
          "metadata": {
            "tags": []
          },
          "execution_count": 1
        }
      ]
    },
    {
      "cell_type": "code",
      "metadata": {
        "id": "br2vJaL8KX2J",
        "colab_type": "code",
        "outputId": "4d13ccf9-11d7-4877-dfee-413af8b9d589",
        "colab": {
          "base_uri": "https://localhost:8080/",
          "height": 35
        }
      },
      "source": [
        "b = '''Hello\n",
        "안녕하세요\n",
        "Python입니다.'''\n",
        "b"
      ],
      "execution_count": 0,
      "outputs": [
        {
          "output_type": "execute_result",
          "data": {
            "text/plain": [
              "'Hello\\n안녕하세요\\nPython입니다.'"
            ]
          },
          "metadata": {
            "tags": []
          },
          "execution_count": 2
        }
      ]
    },
    {
      "cell_type": "code",
      "metadata": {
        "id": "0tPkBVFGKsR5",
        "colab_type": "code",
        "outputId": "2013c9ed-c661-4b2d-8dfd-e6b1bc6bf79b",
        "colab": {
          "base_uri": "https://localhost:8080/",
          "height": 71
        }
      },
      "source": [
        "print(b) # 여러줄로 된 문자열을 사용할 때에는 큰 따옴표 3개나 작은 따옴표 3개를 활용한다."
      ],
      "execution_count": 0,
      "outputs": [
        {
          "output_type": "stream",
          "text": [
            "Hello\n",
            "안녕하세요\n",
            "Python입니다.\n"
          ],
          "name": "stdout"
        }
      ]
    },
    {
      "cell_type": "code",
      "metadata": {
        "id": "avYiNUiXKwMx",
        "colab_type": "code",
        "outputId": "30ce49b4-9dbc-42f2-bbf0-1249bf04de31",
        "colab": {
          "base_uri": "https://localhost:8080/",
          "height": 53
        }
      },
      "source": [
        "c = \"\"\"Hello,\n",
        "'Python'\"\"\"\n",
        "print(c)"
      ],
      "execution_count": 0,
      "outputs": [
        {
          "output_type": "stream",
          "text": [
            "Hello,\n",
            "'Python'\n"
          ],
          "name": "stdout"
        }
      ]
    },
    {
      "cell_type": "code",
      "metadata": {
        "id": "D-SLAapHLj09",
        "colab_type": "code",
        "outputId": "3170e2e1-de6a-4fa3-ae1c-1846dcf181d7",
        "colab": {
          "base_uri": "https://localhost:8080/",
          "height": 35
        }
      },
      "source": [
        "d = 'Python isn\\'t difficult.' # 작은 따옴표 안에 작은 따옴표를 사용하고 싶으면 \\(이스케이프)를 사용하면 된다.\n",
        "print(d)"
      ],
      "execution_count": 0,
      "outputs": [
        {
          "output_type": "stream",
          "text": [
            "Python isn't difficult.\n"
          ],
          "name": "stdout"
        }
      ]
    },
    {
      "cell_type": "code",
      "metadata": {
        "id": "7OrZP8k9LwXW",
        "colab_type": "code",
        "outputId": "c889efdc-ec8b-4d62-f1e8-2e15c6ea86c1",
        "colab": {
          "base_uri": "https://localhost:8080/",
          "height": 53
        }
      },
      "source": [
        "e = 'Hello, \\n\\'Python!\\'' # 작은 따옴표 3개를 사용하지 않고 개행하려면 \\n를 입력하면 된다.\n",
        "print(e)"
      ],
      "execution_count": 0,
      "outputs": [
        {
          "output_type": "stream",
          "text": [
            "Hello, \n",
            "'Python!'\n"
          ],
          "name": "stdout"
        }
      ]
    },
    {
      "cell_type": "code",
      "metadata": {
        "id": "QZTizLIXMXW3",
        "colab_type": "code",
        "outputId": "a8bc94eb-07a2-4c2a-a8bc-b14eb23f5580",
        "colab": {
          "base_uri": "https://localhost:8080/",
          "height": 71
        }
      },
      "source": [
        "# 연습문제\n",
        "s = 'Python is a Programming language that you let work quickly\\nand\\nintegrate systems more effectively.' \n",
        "print(s)"
      ],
      "execution_count": 0,
      "outputs": [
        {
          "output_type": "stream",
          "text": [
            "Python is a Programming language that you let work quickly\n",
            "and\n",
            "integrate systems more effectively.\n"
          ],
          "name": "stdout"
        }
      ]
    },
    {
      "cell_type": "markdown",
      "metadata": {
        "id": "LvK-JSn8NLcq",
        "colab_type": "text"
      },
      "source": [
        "#Unit10. 리스트와 튜플\n",
        "리스트는 여러개의 값을 저장할 때 사용. 대괄호로 묶어주고 각 값은 콤마로 구분.\n",
        "<br>리스트에 저장된 각 값은 '요소'라고 불린다."
      ]
    },
    {
      "cell_type": "code",
      "metadata": {
        "id": "_uAUditpMGTv",
        "colab_type": "code",
        "outputId": "33e5e3a5-cdbe-47ac-af7b-0ff2ce41ffd2",
        "colab": {
          "base_uri": "https://localhost:8080/",
          "height": 35
        }
      },
      "source": [
        "a = [14, 15, 18, 23, 45]\n",
        "a"
      ],
      "execution_count": 0,
      "outputs": [
        {
          "output_type": "execute_result",
          "data": {
            "text/plain": [
              "[14, 15, 18, 23, 45]"
            ]
          },
          "metadata": {
            "tags": []
          },
          "execution_count": 1
        }
      ]
    },
    {
      "cell_type": "code",
      "metadata": {
        "id": "ZqpefytawPAB",
        "colab_type": "code",
        "outputId": "a7e73d33-0da0-4714-dbb9-76de152f19ec",
        "colab": {
          "base_uri": "https://localhost:8080/",
          "height": 35
        }
      },
      "source": [
        "b = ['LoL', 24, 23.5, True] # 여러가지 자료형을 요소로 넣는 것도 가능하다.\n",
        "b"
      ],
      "execution_count": 0,
      "outputs": [
        {
          "output_type": "execute_result",
          "data": {
            "text/plain": [
              "['LoL', 24, 23.5, True]"
            ]
          },
          "metadata": {
            "tags": []
          },
          "execution_count": 2
        }
      ]
    },
    {
      "cell_type": "code",
      "metadata": {
        "id": "gEAVM7zEwhGC",
        "colab_type": "code",
        "outputId": "faa5225f-71a8-4d46-b592-b8f264b238eb",
        "colab": {
          "base_uri": "https://localhost:8080/",
          "height": 35
        }
      },
      "source": [
        "c = [] # 빈 리스트 만들기1\n",
        "c"
      ],
      "execution_count": 0,
      "outputs": [
        {
          "output_type": "execute_result",
          "data": {
            "text/plain": [
              "[]"
            ]
          },
          "metadata": {
            "tags": []
          },
          "execution_count": 3
        }
      ]
    },
    {
      "cell_type": "code",
      "metadata": {
        "id": "6C-mcWDYwn6n",
        "colab_type": "code",
        "outputId": "75870b5b-e2be-4c96-9f9c-cf88bded96f3",
        "colab": {
          "base_uri": "https://localhost:8080/",
          "height": 35
        }
      },
      "source": [
        "d = list() # 빈 리스트 만들기2\n",
        "d"
      ],
      "execution_count": 0,
      "outputs": [
        {
          "output_type": "execute_result",
          "data": {
            "text/plain": [
              "[]"
            ]
          },
          "metadata": {
            "tags": []
          },
          "execution_count": 5
        }
      ]
    },
    {
      "cell_type": "markdown",
      "metadata": {
        "id": "QunHDps6w_P7",
        "colab_type": "text"
      },
      "source": [
        "##range를 사용하여 리스트 만들기"
      ]
    },
    {
      "cell_type": "code",
      "metadata": {
        "id": "EmAmDsvmwpw_",
        "colab_type": "code",
        "outputId": "cd49b48a-56ce-4635-a466-d51c83324d67",
        "colab": {
          "base_uri": "https://localhost:8080/",
          "height": 35
        }
      },
      "source": [
        "range(10)"
      ],
      "execution_count": 0,
      "outputs": [
        {
          "output_type": "execute_result",
          "data": {
            "text/plain": [
              "range(0, 10)"
            ]
          },
          "metadata": {
            "tags": []
          },
          "execution_count": 6
        }
      ]
    },
    {
      "cell_type": "code",
      "metadata": {
        "id": "8t904X8LxRoz",
        "colab_type": "code",
        "outputId": "5896b158-f61d-4c9a-a10f-863da5d3dc39",
        "colab": {
          "base_uri": "https://localhost:8080/",
          "height": 35
        }
      },
      "source": [
        "list(range(0,10)) # list(range(처음,끝,간격)), 간격을 설정하지 않으면 자동으로 1에 할당. 처음 수는 포함하지만 끝 수는 포함하지 않음"
      ],
      "execution_count": 0,
      "outputs": [
        {
          "output_type": "execute_result",
          "data": {
            "text/plain": [
              "[0, 1, 2, 3, 4, 5, 6, 7, 8, 9]"
            ]
          },
          "metadata": {
            "tags": []
          },
          "execution_count": 7
        }
      ]
    },
    {
      "cell_type": "code",
      "metadata": {
        "id": "b9-PHwoixVDJ",
        "colab_type": "code",
        "outputId": "d86db26b-d504-4da3-8b15-db5f09247656",
        "colab": {
          "base_uri": "https://localhost:8080/",
          "height": 35
        }
      },
      "source": [
        "list(range(0,10,2))"
      ],
      "execution_count": 0,
      "outputs": [
        {
          "output_type": "execute_result",
          "data": {
            "text/plain": [
              "[0, 2, 4, 6, 8]"
            ]
          },
          "metadata": {
            "tags": []
          },
          "execution_count": 8
        }
      ]
    },
    {
      "cell_type": "code",
      "metadata": {
        "id": "-uOg7OqAxY5R",
        "colab_type": "code",
        "outputId": "406c2fa8-ed2a-4b8d-c413-8b0a653a74e6",
        "colab": {
          "base_uri": "https://localhost:8080/",
          "height": 35
        }
      },
      "source": [
        "list(range(0,11,2))"
      ],
      "execution_count": 0,
      "outputs": [
        {
          "output_type": "execute_result",
          "data": {
            "text/plain": [
              "[0, 2, 4, 6, 8, 10]"
            ]
          },
          "metadata": {
            "tags": []
          },
          "execution_count": 9
        }
      ]
    },
    {
      "cell_type": "code",
      "metadata": {
        "id": "DdCnwJnaxc5n",
        "colab_type": "code",
        "outputId": "e161a54a-6bba-480b-f20c-c96e1e1ce00e",
        "colab": {
          "base_uri": "https://localhost:8080/",
          "height": 35
        }
      },
      "source": [
        "list(range(5,12,3))"
      ],
      "execution_count": 0,
      "outputs": [
        {
          "output_type": "execute_result",
          "data": {
            "text/plain": [
              "[5, 8, 11]"
            ]
          },
          "metadata": {
            "tags": []
          },
          "execution_count": 10
        }
      ]
    },
    {
      "cell_type": "code",
      "metadata": {
        "id": "WNA1UBxTx-Ov",
        "colab_type": "code",
        "outputId": "99648a45-6586-467b-cb2d-75aa4f708261",
        "colab": {
          "base_uri": "https://localhost:8080/",
          "height": 35
        }
      },
      "source": [
        "list(range(10,0,-1)) # 간격을 음수로 설정하면 감소하는 리스트 생성 가능"
      ],
      "execution_count": 0,
      "outputs": [
        {
          "output_type": "execute_result",
          "data": {
            "text/plain": [
              "[10, 9, 8, 7, 6, 5, 4, 3, 2, 1]"
            ]
          },
          "metadata": {
            "tags": []
          },
          "execution_count": 11
        }
      ]
    },
    {
      "cell_type": "markdown",
      "metadata": {
        "id": "DpVnL8whye7v",
        "colab_type": "text"
      },
      "source": [
        "##튜플\n",
        "튜플은 안에 저장된 요소들을 변경, 추가, 삭제 할 수 없는 리스트.\n",
        "<br>읽기 전용 리스트라고 생각하면 쉽다.\n",
        "<br>튜플을 사용하는 이유는? 요소들을 변경, 추가, 삭제할 수 없기 때문에 요소를 보호해야하는 경우에 사용."
      ]
    },
    {
      "cell_type": "code",
      "metadata": {
        "id": "9pDzQHvSyUER",
        "colab_type": "code",
        "outputId": "dca0e725-504e-464b-fd12-209f10ac3363",
        "colab": {
          "base_uri": "https://localhost:8080/",
          "height": 35
        }
      },
      "source": [
        "a = (1, 2, 3) # 대괄호 대신 소괄호로 묶는다.\n",
        "a"
      ],
      "execution_count": 0,
      "outputs": [
        {
          "output_type": "execute_result",
          "data": {
            "text/plain": [
              "(1, 2, 3)"
            ]
          },
          "metadata": {
            "tags": []
          },
          "execution_count": 12
        }
      ]
    },
    {
      "cell_type": "code",
      "metadata": {
        "id": "mquFXOgD1P8A",
        "colab_type": "code",
        "outputId": "5cf08bb6-60ff-4475-a0af-77a10f9df2a3",
        "colab": {
          "base_uri": "https://localhost:8080/",
          "height": 35
        }
      },
      "source": [
        "b = ('Lol', 23, 27.4, True) # 리스트와 마찬가지로 여러 자료형을 요소로 넣을 수 있다.\n",
        "b"
      ],
      "execution_count": 0,
      "outputs": [
        {
          "output_type": "execute_result",
          "data": {
            "text/plain": [
              "('Lol', 23, 27.4, True)"
            ]
          },
          "metadata": {
            "tags": []
          },
          "execution_count": 13
        }
      ]
    },
    {
      "cell_type": "code",
      "metadata": {
        "id": "7tbNJOV71Xk3",
        "colab_type": "code",
        "outputId": "ee5792a5-83d5-4677-cd8c-c0c63594a7bb",
        "colab": {
          "base_uri": "https://localhost:8080/",
          "height": 35
        }
      },
      "source": [
        "(45,) # 요소가 한 개인 튜플 만들기. 콤마를 붙이지 않으면 튜플이 아닌 '값'이 된다."
      ],
      "execution_count": 0,
      "outputs": [
        {
          "output_type": "execute_result",
          "data": {
            "text/plain": [
              "(45,)"
            ]
          },
          "metadata": {
            "tags": []
          },
          "execution_count": 14
        }
      ]
    },
    {
      "cell_type": "code",
      "metadata": {
        "id": "TklrTrTD2ILe",
        "colab_type": "code",
        "outputId": "da2e31e1-fcf7-48e6-c4d2-f234d85de48f",
        "colab": {
          "base_uri": "https://localhost:8080/",
          "height": 35
        }
      },
      "source": [
        "c = tuple() # 빈 튜플 만들기\n",
        "c"
      ],
      "execution_count": 0,
      "outputs": [
        {
          "output_type": "execute_result",
          "data": {
            "text/plain": [
              "()"
            ]
          },
          "metadata": {
            "tags": []
          },
          "execution_count": 17
        }
      ]
    },
    {
      "cell_type": "code",
      "metadata": {
        "id": "HpL8uC4r2byJ",
        "colab_type": "code",
        "outputId": "9e89c3fb-010d-49fa-e3e4-a022d968c0ca",
        "colab": {
          "base_uri": "https://localhost:8080/",
          "height": 35
        }
      },
      "source": [
        "tuple(range(0,10,1)) # 튜플로 range 함수 사용가능"
      ],
      "execution_count": 0,
      "outputs": [
        {
          "output_type": "execute_result",
          "data": {
            "text/plain": [
              "(0, 1, 2, 3, 4, 5, 6, 7, 8, 9)"
            ]
          },
          "metadata": {
            "tags": []
          },
          "execution_count": 18
        }
      ]
    },
    {
      "cell_type": "code",
      "metadata": {
        "id": "X_AWrttR_D2Q",
        "colab_type": "code",
        "outputId": "35366020-829b-42ba-827a-774e1d46f11d",
        "colab": {
          "base_uri": "https://localhost:8080/",
          "height": 35
        }
      },
      "source": [
        "# 리스트를 튜플로 만들기\n",
        "a = [1, 2, 3]\n",
        "tuple(a)"
      ],
      "execution_count": 0,
      "outputs": [
        {
          "output_type": "execute_result",
          "data": {
            "text/plain": [
              "(1, 2, 3)"
            ]
          },
          "metadata": {
            "tags": []
          },
          "execution_count": 19
        }
      ]
    },
    {
      "cell_type": "code",
      "metadata": {
        "id": "ZaUj3akjIbLJ",
        "colab_type": "code",
        "outputId": "7518a6ef-80c9-4b0a-8133-ecf20caefa65",
        "colab": {
          "base_uri": "https://localhost:8080/",
          "height": 35
        }
      },
      "source": [
        "# 튜플을 리스트로 만들기\n",
        "b = (1, 2, 4)\n",
        "list(b)"
      ],
      "execution_count": 0,
      "outputs": [
        {
          "output_type": "execute_result",
          "data": {
            "text/plain": [
              "[1, 2, 4]"
            ]
          },
          "metadata": {
            "tags": []
          },
          "execution_count": 20
        }
      ]
    },
    {
      "cell_type": "code",
      "metadata": {
        "id": "hgRYoI5uIkcq",
        "colab_type": "code",
        "outputId": "7b3179d7-f8c7-4052-a309-00bc6b20d717",
        "colab": {
          "base_uri": "https://localhost:8080/",
          "height": 35
        }
      },
      "source": [
        "# 리스트 안에 문자열 넣기\n",
        "list('Python')"
      ],
      "execution_count": 0,
      "outputs": [
        {
          "output_type": "execute_result",
          "data": {
            "text/plain": [
              "['P', 'y', 't', 'h', 'o', 'n']"
            ]
          },
          "metadata": {
            "tags": []
          },
          "execution_count": 21
        }
      ]
    },
    {
      "cell_type": "code",
      "metadata": {
        "id": "Vj13Fhf-LlGF",
        "colab_type": "code",
        "outputId": "e2ea6ba5-a4db-4842-e5ad-b6d05773febf",
        "colab": {
          "base_uri": "https://localhost:8080/",
          "height": 35
        }
      },
      "source": [
        "# 튜플 안에 문자열 넣기\n",
        "tuple('Python')"
      ],
      "execution_count": 0,
      "outputs": [
        {
          "output_type": "execute_result",
          "data": {
            "text/plain": [
              "('P', 'y', 't', 'h', 'o', 'n')"
            ]
          },
          "metadata": {
            "tags": []
          },
          "execution_count": 23
        }
      ]
    },
    {
      "cell_type": "markdown",
      "metadata": {
        "id": "LKB25YKTMgSi",
        "colab_type": "text"
      },
      "source": [
        "리스트와 튜플의 요소를 변수 여러개에 할당하는 것을 리스트 언패킹, 튜플 언패킹이라고 한다."
      ]
    },
    {
      "cell_type": "code",
      "metadata": {
        "id": "9cj5MkbPLrhy",
        "colab_type": "code",
        "outputId": "f84ab704-6118-4cdf-d698-e8f5be07e55d",
        "colab": {
          "base_uri": "https://localhost:8080/",
          "height": 35
        }
      },
      "source": [
        "# 리스트 언패킹\n",
        "x = [1, 2, 3]\n",
        "a, b, c = x\n",
        "print(a, b, c)"
      ],
      "execution_count": 0,
      "outputs": [
        {
          "output_type": "stream",
          "text": [
            "1 2 3\n"
          ],
          "name": "stdout"
        }
      ]
    },
    {
      "cell_type": "code",
      "metadata": {
        "id": "FwBtWEefLyB2",
        "colab_type": "code",
        "outputId": "aaa4595a-e954-4721-c6eb-5d9cbb19e031",
        "colab": {
          "base_uri": "https://localhost:8080/",
          "height": 35
        }
      },
      "source": [
        "# 튜플 언패킹\n",
        "y = (2, 6, 3)\n",
        "a, b, c = y\n",
        "print(a, b, c)"
      ],
      "execution_count": 0,
      "outputs": [
        {
          "output_type": "stream",
          "text": [
            "2 6 3\n"
          ],
          "name": "stdout"
        }
      ]
    }
  ]
}
