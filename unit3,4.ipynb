{
  "nbformat": 4,
  "nbformat_minor": 0,
  "metadata": {
    "colab": {
      "name": "unit3,4",
      "version": "0.3.2",
      "provenance": [],
      "collapsed_sections": [],
      "include_colab_link": true
    },
    "kernelspec": {
      "name": "python3",
      "display_name": "Python 3"
    }
  },
  "cells": [
    {
      "cell_type": "markdown",
      "metadata": {
        "id": "view-in-github",
        "colab_type": "text"
      },
      "source": [
        "<a href=\"https://colab.research.google.com/github/robomoan/python_coading_dojang1/blob/master/unit3%2C4.ipynb\" target=\"_parent\"><img src=\"https://colab.research.google.com/assets/colab-badge.svg\" alt=\"Open In Colab\"/></a>"
      ]
    },
    {
      "metadata": {
        "id": "3MW6JDew7V39",
        "colab_type": "text"
      },
      "cell_type": "markdown",
      "source": [
        "<h1>Unit3. Hello World! 로 시작하기</h1>"
      ]
    },
    {
      "metadata": {
        "id": "a527uEbw701H",
        "colab_type": "text"
      },
      "cell_type": "markdown",
      "source": [
        "<h2>IDLE에서 Hello World! 출력해보기</h2>"
      ]
    },
    {
      "metadata": {
        "id": "anrHyVSC8CFe",
        "colab_type": "code",
        "outputId": "1bdf2b78-4b5f-42b9-cbcc-2f62f14eaf05",
        "colab": {
          "base_uri": "https://localhost:8080/",
          "height": 35
        }
      },
      "cell_type": "code",
      "source": [
        "print(\"Hello World!\")"
      ],
      "execution_count": 0,
      "outputs": [
        {
          "output_type": "stream",
          "text": [
            "Hello World!\n"
          ],
          "name": "stdout"
        }
      ]
    },
    {
      "metadata": {
        "id": "zHL0-9XH9pQI",
        "colab_type": "text"
      },
      "cell_type": "markdown",
      "source": [
        "코드를 한 줄 한 줄 실행해서 결과를 얻는 방식 → 인터프리터\n",
        "<br>Python Shell: IDLE 처럼 파이썬 코드를 직접 입력해서 실행하는 프로그램\n",
        "<br>Python Prompt\n",
        "<br>Python Shell은 인터프리터와 대화하듯이 코드를 처리함: 대화형 셸, Interactive mode\n",
        "<br>REPL 방식 (Read-Eval-Print Loop)\n"
      ]
    },
    {
      "metadata": {
        "id": "9x1SRKMm97Gw",
        "colab_type": "code",
        "outputId": "668e0515-fa34-4561-ed61-d62862188473",
        "colab": {
          "base_uri": "https://localhost:8080/",
          "height": 134
        }
      },
      "cell_type": "code",
      "source": [
        "print(Hello World!)"
      ],
      "execution_count": 0,
      "outputs": [
        {
          "output_type": "error",
          "ename": "SyntaxError",
          "evalue": "ignored",
          "traceback": [
            "\u001b[0;36m  File \u001b[0;32m\"<ipython-input-2-898d2b40ca9e>\"\u001b[0;36m, line \u001b[0;32m1\u001b[0m\n\u001b[0;31m    print(Hello World!)\u001b[0m\n\u001b[0m                    ^\u001b[0m\n\u001b[0;31mSyntaxError\u001b[0m\u001b[0;31m:\u001b[0m invalid syntax\n"
          ]
        }
      ]
    },
    {
      "metadata": {
        "id": "WLzR0YvT_xxc",
        "colab_type": "text"
      },
      "cell_type": "markdown",
      "source": [
        "따옴표를 넣지 않을 경우 오류 발생"
      ]
    },
    {
      "metadata": {
        "id": "ltOS_oqsCI5r",
        "colab_type": "text"
      },
      "cell_type": "markdown",
      "source": [
        "<h2>명령프롬프트에서 Python 실행하기</h2>"
      ]
    },
    {
      "metadata": {
        "id": "9c6XCTc4CQVd",
        "colab_type": "text"
      },
      "cell_type": "markdown",
      "source": [
        "Python 설치할 때 Add Python 3.X to PATH 에 체크"
      ]
    },
    {
      "metadata": {
        "id": "yPlGwuUMegzK",
        "colab_type": "text"
      },
      "cell_type": "markdown",
      "source": [
        "<h2>소스코드</h2>\n",
        "<br>단어 뒤에 괄호 ()가 붙은 것: 함수(function)\n",
        "<br>함수를 '호출(call)'한다."
      ]
    },
    {
      "metadata": {
        "id": "6rH-xzgcn_AA",
        "colab_type": "text"
      },
      "cell_type": "markdown",
      "source": [
        "<h1>Unit4. 기본 문법</h1>\n",
        "<br><h2>세미콜론</h2>"
      ]
    },
    {
      "metadata": {
        "id": "5G2atrAOAqXy",
        "colab_type": "code",
        "outputId": "ed29a81a-e3f1-4ce8-951b-2816e2afde8c",
        "colab": {
          "base_uri": "https://localhost:8080/",
          "height": 71
        }
      },
      "cell_type": "code",
      "source": [
        "print('Hello, World!')\n",
        "print('Wow'); print('Good!')"
      ],
      "execution_count": 0,
      "outputs": [
        {
          "output_type": "stream",
          "text": [
            "Hello, World!\n",
            "Wow\n",
            "Good!\n"
          ],
          "name": "stdout"
        }
      ]
    },
    {
      "metadata": {
        "id": "gL9NwoCmpMoC",
        "colab_type": "text"
      },
      "cell_type": "markdown",
      "source": [
        "파이썬은 구문 끝에 세미콜론을 붙이지 않음.\n",
        "<br>세미콜론은 한 줄에 여러 구문을 작성할 때 사용."
      ]
    },
    {
      "metadata": {
        "id": "czKJcMgksGpP",
        "colab_type": "text"
      },
      "cell_type": "markdown",
      "source": [
        "<h2>주석</h2>"
      ]
    },
    {
      "metadata": {
        "id": "9O9gh41UonNk",
        "colab_type": "code",
        "outputId": "933b1083-2af7-456f-f502-3f4e16ac1117",
        "colab": {
          "base_uri": "https://localhost:8080/",
          "height": 35
        }
      },
      "cell_type": "code",
      "source": [
        "# print('Hello World!')\n",
        "a = 1 + 2 # 더하기\n",
        "print(a)"
      ],
      "execution_count": 0,
      "outputs": [
        {
          "output_type": "stream",
          "text": [
            "3\n"
          ],
          "name": "stdout"
        }
      ]
    },
    {
      "metadata": {
        "id": "KeEXPw1Ssudb",
        "colab_type": "text"
      },
      "cell_type": "markdown",
      "source": [
        "주석은 코드 앞에 #를 단다. #뒤의 모든 명령어는 실행되지 않는다.\n",
        "<br>한글 주석은 UTF-8 인코딩만을 지원한다. 한글 주석이 깨질 경우 다른 인코딩일 수 있으니 UTF-8 인코딩으로 다시 저장한다."
      ]
    },
    {
      "metadata": {
        "id": "fztZM5wYtfTT",
        "colab_type": "text"
      },
      "cell_type": "markdown",
      "source": [
        "<h2>들여쓰기</h2>\n",
        "<br>if 문 등에는 들여쓰기를 사용하지 않으면 문법오류\n",
        "<br>들여쓰기 방법에는 공백 2칸, 공백 4칸, Tab 1칸이 있다.\n",
        "<br>파이썬은 들여쓰기를 기준으로 코드블럭을 형성한다. 단 같은 코드블록은 들여쓰기 칸 수가 같아야 한다. "
      ]
    },
    {
      "metadata": {
        "id": "P_d_GCDguPHg",
        "colab_type": "code",
        "colab": {}
      },
      "cell_type": "code",
      "source": [
        "if a == 10:\n",
        "  print('10')\n",
        "  print('입니다')"
      ],
      "execution_count": 0,
      "outputs": []
    },
    {
      "metadata": {
        "id": "WYK0zA83cYCw",
        "colab_type": "text"
      },
      "cell_type": "markdown",
      "source": [
        "<h1>Unit5. 숫자 계산하기</h1>\n",
        "<br><h2>정수 계산하기</h2>\n",
        "<br>숫자 자료형: 정수(int), 실수(float), 복소수(complex)\n"
      ]
    },
    {
      "metadata": {
        "id": "D42LP8XNuXVi",
        "colab_type": "code",
        "outputId": "02876947-fb84-4b31-811f-8be5a02761fd",
        "colab": {
          "base_uri": "https://localhost:8080/",
          "height": 35
        }
      },
      "cell_type": "code",
      "source": [
        "1 + 1 #덧셈"
      ],
      "execution_count": 0,
      "outputs": [
        {
          "output_type": "execute_result",
          "data": {
            "text/plain": [
              "2"
            ]
          },
          "metadata": {
            "tags": []
          },
          "execution_count": 2
        }
      ]
    },
    {
      "metadata": {
        "id": "GbM-u5BRdFUS",
        "colab_type": "code",
        "outputId": "e0fa5ea8-c292-4c66-c455-cb5a49656182",
        "colab": {
          "base_uri": "https://localhost:8080/",
          "height": 35
        }
      },
      "cell_type": "code",
      "source": [
        "2 - 1 #뺄셈"
      ],
      "execution_count": 0,
      "outputs": [
        {
          "output_type": "execute_result",
          "data": {
            "text/plain": [
              "1"
            ]
          },
          "metadata": {
            "tags": []
          },
          "execution_count": 3
        }
      ]
    },
    {
      "metadata": {
        "id": "MQGmysZSdQyx",
        "colab_type": "code",
        "outputId": "922ce432-c13b-4a21-c614-120542ff5a53",
        "colab": {
          "base_uri": "https://localhost:8080/",
          "height": 35
        }
      },
      "cell_type": "code",
      "source": [
        "3 * 5 #곱셈"
      ],
      "execution_count": 0,
      "outputs": [
        {
          "output_type": "execute_result",
          "data": {
            "text/plain": [
              "15"
            ]
          },
          "metadata": {
            "tags": []
          },
          "execution_count": 4
        }
      ]
    },
    {
      "metadata": {
        "id": "PMWaEdqtdS9Z",
        "colab_type": "code",
        "outputId": "4f875903-424e-4e73-a609-53af2f595fbe",
        "colab": {
          "base_uri": "https://localhost:8080/",
          "height": 35
        }
      },
      "cell_type": "code",
      "source": [
        "5 / 2 #나눗셈\n",
        "# Python3 에서는 정수의 나눗셈 연산은 실수 값이 나옴"
      ],
      "execution_count": 0,
      "outputs": [
        {
          "output_type": "execute_result",
          "data": {
            "text/plain": [
              "2.5"
            ]
          },
          "metadata": {
            "tags": []
          },
          "execution_count": 6
        }
      ]
    },
    {
      "metadata": {
        "id": "yvdi4cUCdWKW",
        "colab_type": "code",
        "outputId": "fdff2910-d46f-48bf-9518-6f86bd1b4ada",
        "colab": {
          "base_uri": "https://localhost:8080/",
          "height": 35
        }
      },
      "cell_type": "code",
      "source": [
        "6 / 3 #나누어 떨어지는 값도 실수 값이 나옴"
      ],
      "execution_count": 0,
      "outputs": [
        {
          "output_type": "execute_result",
          "data": {
            "text/plain": [
              "2.0"
            ]
          },
          "metadata": {
            "tags": []
          },
          "execution_count": 7
        }
      ]
    },
    {
      "metadata": {
        "id": "-CYSJXkGdrtG",
        "colab_type": "code",
        "outputId": "1b53b656-1f9f-43d2-fe25-35de1c8b7c77",
        "colab": {
          "base_uri": "https://localhost:8080/",
          "height": 35
        }
      },
      "cell_type": "code",
      "source": [
        "5 // 2 # 정수의 나눗셈 소수점 아래를 버리고 정수값을 출력\n",
        "\n",
        "# 이 연산을 버림 나눗셈(floor division)이라고 한다."
      ],
      "execution_count": 0,
      "outputs": [
        {
          "output_type": "execute_result",
          "data": {
            "text/plain": [
              "2"
            ]
          },
          "metadata": {
            "tags": []
          },
          "execution_count": 11
        }
      ]
    },
    {
      "metadata": {
        "id": "5dXo7Ox7d-sh",
        "colab_type": "code",
        "outputId": "761031d7-8a28-40a4-d178-0e88aa857890",
        "colab": {
          "base_uri": "https://localhost:8080/",
          "height": 35
        }
      },
      "cell_type": "code",
      "source": [
        "12.5 // 5 # 단 실수의 나눗셈 후 소수점 아래를 버리는 연산자는 실수값을 출력한다."
      ],
      "execution_count": 0,
      "outputs": [
        {
          "output_type": "execute_result",
          "data": {
            "text/plain": [
              "2.0"
            ]
          },
          "metadata": {
            "tags": []
          },
          "execution_count": 10
        }
      ]
    },
    {
      "metadata": {
        "id": "O_UNxFl5evM-",
        "colab_type": "code",
        "outputId": "8e98affa-796f-4559-dd52-3eec39a51c0d",
        "colab": {
          "base_uri": "https://localhost:8080/",
          "height": 35
        }
      },
      "cell_type": "code",
      "source": [
        "7 % 3 # 나눗셈 후 나머지를 구하는 연산자"
      ],
      "execution_count": 0,
      "outputs": [
        {
          "output_type": "execute_result",
          "data": {
            "text/plain": [
              "1"
            ]
          },
          "metadata": {
            "tags": []
          },
          "execution_count": 12
        }
      ]
    },
    {
      "metadata": {
        "id": "YRvM9pQhiBJ_",
        "colab_type": "code",
        "outputId": "739fe318-26a6-40e9-fec5-6a1802c61257",
        "colab": {
          "base_uri": "https://localhost:8080/",
          "height": 35
        }
      },
      "cell_type": "code",
      "source": [
        "2 ** 10 # 거듭제곱"
      ],
      "execution_count": 0,
      "outputs": [
        {
          "output_type": "execute_result",
          "data": {
            "text/plain": [
              "1024"
            ]
          },
          "metadata": {
            "tags": []
          },
          "execution_count": 15
        }
      ]
    },
    {
      "metadata": {
        "id": "XT5VxMUXhCo4",
        "colab_type": "code",
        "outputId": "fe23aea4-ddb8-48e4-b326-717d717d93ee",
        "colab": {
          "base_uri": "https://localhost:8080/",
          "height": 35
        }
      },
      "cell_type": "code",
      "source": [
        "int(6 / 3) # 값을 강제로 정수로 만들기"
      ],
      "execution_count": 0,
      "outputs": [
        {
          "output_type": "execute_result",
          "data": {
            "text/plain": [
              "2"
            ]
          },
          "metadata": {
            "tags": []
          },
          "execution_count": 13
        }
      ]
    },
    {
      "metadata": {
        "id": "6SZVH5JThQpg",
        "colab_type": "code",
        "outputId": "ffa1e6d5-2cb5-4058-e3d0-277acc916d56",
        "colab": {
          "base_uri": "https://localhost:8080/",
          "height": 35
        }
      },
      "cell_type": "code",
      "source": [
        "type(10) # 객체의 자료형 알아내기"
      ],
      "execution_count": 0,
      "outputs": [
        {
          "output_type": "execute_result",
          "data": {
            "text/plain": [
              "int"
            ]
          },
          "metadata": {
            "tags": []
          },
          "execution_count": 14
        }
      ]
    },
    {
      "metadata": {
        "id": "xnjVngvli6eP",
        "colab_type": "text"
      },
      "cell_type": "markdown",
      "source": [
        "<h2>실수 계산하기</h2>"
      ]
    },
    {
      "metadata": {
        "id": "Y_qrKA0oh8iQ",
        "colab_type": "code",
        "outputId": "7a2c9712-ac82-4ff6-9d13-ae58eaf27b74",
        "colab": {
          "base_uri": "https://localhost:8080/",
          "height": 35
        }
      },
      "cell_type": "code",
      "source": [
        "4.3 - 2.7 # 왜 오차가 발생할까?"
      ],
      "execution_count": 0,
      "outputs": [
        {
          "output_type": "execute_result",
          "data": {
            "text/plain": [
              "1.5999999999999996"
            ]
          },
          "metadata": {
            "tags": []
          },
          "execution_count": 17
        }
      ]
    },
    {
      "metadata": {
        "id": "GukqEPVdi3es",
        "colab_type": "code",
        "outputId": "8f32f8fc-f685-4eed-c4bf-1eae69b11cc8",
        "colab": {
          "base_uri": "https://localhost:8080/",
          "height": 35
        }
      },
      "cell_type": "code",
      "source": [
        "0.1 + 0.2 == 0.3"
      ],
      "execution_count": 0,
      "outputs": [
        {
          "output_type": "execute_result",
          "data": {
            "text/plain": [
              "False"
            ]
          },
          "metadata": {
            "tags": []
          },
          "execution_count": 19
        }
      ]
    },
    {
      "metadata": {
        "id": "9Nue5ycGj1Dc",
        "colab_type": "code",
        "outputId": "665515c4-a3c2-4277-fde1-15fdbf89a745",
        "colab": {
          "base_uri": "https://localhost:8080/",
          "height": 35
        }
      },
      "cell_type": "code",
      "source": [
        "float(5) # 값을 강제로 실수값으로 변환"
      ],
      "execution_count": 0,
      "outputs": [
        {
          "output_type": "execute_result",
          "data": {
            "text/plain": [
              "5.0"
            ]
          },
          "metadata": {
            "tags": []
          },
          "execution_count": 1
        }
      ]
    },
    {
      "metadata": {
        "id": "jtC8dRslsePZ",
        "colab_type": "text"
      },
      "cell_type": "markdown",
      "source": [
        "파이썬 셀은 결과를 즉시 보는 용도 1 + 1이 바로 출력되지만 파이썬 스크립트에서는 출력이 되지 않음\n",
        "<br>스크립트 파일에서 계산 결과를 출력하기 위해서는 print(1 + 1)을 사용해야 함."
      ]
    },
    {
      "metadata": {
        "id": "OF8E-JsqtGCB",
        "colab_type": "text"
      },
      "cell_type": "markdown",
      "source": [
        "<h1>Unit6. 변수와 입력 사용하기</h1>\n",
        "<br><h2>변수 만들기</h2>\n"
      ]
    },
    {
      "metadata": {
        "id": "9N1Vj-wisU1f",
        "colab_type": "code",
        "outputId": "cac5b796-79e4-4161-b77d-5c96467aa01d",
        "colab": {
          "base_uri": "https://localhost:8080/",
          "height": 35
        }
      },
      "cell_type": "code",
      "source": [
        "x = 10; y = 'Hello World!'\n",
        "type(x)"
      ],
      "execution_count": 0,
      "outputs": [
        {
          "output_type": "execute_result",
          "data": {
            "text/plain": [
              "int"
            ]
          },
          "metadata": {
            "tags": []
          },
          "execution_count": 8
        }
      ]
    },
    {
      "metadata": {
        "id": "gQgbBrUiteIG",
        "colab_type": "code",
        "outputId": "6231cb8d-db58-49cd-f68b-805d13f25f5f",
        "colab": {
          "base_uri": "https://localhost:8080/",
          "height": 35
        }
      },
      "cell_type": "code",
      "source": [
        "type(y)"
      ],
      "execution_count": 0,
      "outputs": [
        {
          "output_type": "execute_result",
          "data": {
            "text/plain": [
              "str"
            ]
          },
          "metadata": {
            "tags": []
          },
          "execution_count": 5
        }
      ]
    },
    {
      "metadata": {
        "id": "OG3GCupwtmb-",
        "colab_type": "code",
        "outputId": "5b3616bc-d318-4de8-f1f6-42a02da56368",
        "colab": {
          "base_uri": "https://localhost:8080/",
          "height": 35
        }
      },
      "cell_type": "code",
      "source": [
        "x += 20 # x = x + 20 과 같은 의미\n",
        "x"
      ],
      "execution_count": 0,
      "outputs": [
        {
          "output_type": "execute_result",
          "data": {
            "text/plain": [
              "30"
            ]
          },
          "metadata": {
            "tags": []
          },
          "execution_count": 9
        }
      ]
    },
    {
      "metadata": {
        "id": "i0ivh0qwtpUW",
        "colab_type": "code",
        "outputId": "f9c546ef-ab96-4dd2-8c4e-6a5d33029c8f",
        "colab": {
          "base_uri": "https://localhost:8080/",
          "height": 190
        }
      },
      "cell_type": "code",
      "source": [
        "del x # 변수 삭제는 del 함수를 사용\n",
        "x"
      ],
      "execution_count": 0,
      "outputs": [
        {
          "output_type": "error",
          "ename": "NameError",
          "evalue": "ignored",
          "traceback": [
            "\u001b[0;31m---------------------------------------------------------------------------\u001b[0m",
            "\u001b[0;31mNameError\u001b[0m                                 Traceback (most recent call last)",
            "\u001b[0;32m<ipython-input-10-1beca76b84e9>\u001b[0m in \u001b[0;36m<module>\u001b[0;34m()\u001b[0m\n\u001b[1;32m      1\u001b[0m \u001b[0;32mdel\u001b[0m \u001b[0mx\u001b[0m\u001b[0;34m\u001b[0m\u001b[0;34m\u001b[0m\u001b[0m\n\u001b[0;32m----> 2\u001b[0;31m \u001b[0mx\u001b[0m\u001b[0;34m\u001b[0m\u001b[0;34m\u001b[0m\u001b[0m\n\u001b[0m",
            "\u001b[0;31mNameError\u001b[0m: name 'x' is not defined"
          ]
        }
      ]
    },
    {
      "metadata": {
        "id": "-gEgHjc1uCb2",
        "colab_type": "code",
        "outputId": "e601eb64-a98d-40a2-9687-75ccc96e466b",
        "colab": {
          "base_uri": "https://localhost:8080/",
          "height": 35
        }
      },
      "cell_type": "code",
      "source": [
        "z = None # 빈 변수 만들기\n",
        "print(z)"
      ],
      "execution_count": 0,
      "outputs": [
        {
          "output_type": "stream",
          "text": [
            "None\n"
          ],
          "name": "stdout"
        }
      ]
    },
    {
      "metadata": {
        "id": "YgbjaOV-uU2X",
        "colab_type": "code",
        "colab": {}
      },
      "cell_type": "code",
      "source": [
        "z"
      ],
      "execution_count": 0,
      "outputs": []
    },
    {
      "metadata": {
        "id": "SyHfv7-UvcE_",
        "colab_type": "text"
      },
      "cell_type": "markdown",
      "source": [
        "<h2>Input 함수 사용하기</h2>\n",
        "<br>입력 값을 변수에 저장하는 함수"
      ]
    },
    {
      "metadata": {
        "id": "4yvaY1qxuVm4",
        "colab_type": "code",
        "outputId": "e1b06169-15f6-4af1-a740-936cfbbaa152",
        "colab": {
          "base_uri": "https://localhost:8080/",
          "height": 53
        }
      },
      "cell_type": "code",
      "source": [
        "input()"
      ],
      "execution_count": 0,
      "outputs": [
        {
          "output_type": "stream",
          "text": [
            "x\n"
          ],
          "name": "stdout"
        },
        {
          "output_type": "execute_result",
          "data": {
            "text/plain": [
              "'x'"
            ]
          },
          "metadata": {
            "tags": []
          },
          "execution_count": 13
        }
      ]
    },
    {
      "metadata": {
        "id": "juMyB5YzJ3cw",
        "colab_type": "code",
        "outputId": "08bcd678-057d-46a1-85ff-de59947b6d09",
        "colab": {
          "base_uri": "https://localhost:8080/",
          "height": 53
        }
      },
      "cell_type": "code",
      "source": [
        "input('문자열을 입력하세요: ')"
      ],
      "execution_count": 0,
      "outputs": [
        {
          "output_type": "stream",
          "text": [
            "문자열을 입력하세요: x\n"
          ],
          "name": "stdout"
        },
        {
          "output_type": "execute_result",
          "data": {
            "text/plain": [
              "'x'"
            ]
          },
          "metadata": {
            "tags": []
          },
          "execution_count": 16
        }
      ]
    },
    {
      "metadata": {
        "id": "BSHrgjWpJ9ju",
        "colab_type": "code",
        "outputId": "33ffb911-b46f-4105-c44f-58de73de4122",
        "colab": {
          "base_uri": "https://localhost:8080/",
          "height": 71
        }
      },
      "cell_type": "code",
      "source": [
        "a = input('숫자를 입력하세요: ')\n",
        "b = input('숫자를 입력하세요: ')\n",
        "\n",
        "print(a + b) # 왜 그럴까?"
      ],
      "execution_count": 0,
      "outputs": [
        {
          "output_type": "stream",
          "text": [
            "숫자를 입력하세요: 40\n",
            "숫자를 입력하세요: 30\n",
            "4030\n"
          ],
          "name": "stdout"
        }
      ]
    },
    {
      "metadata": {
        "id": "qV6CQqPZKj37",
        "colab_type": "text"
      },
      "cell_type": "markdown",
      "source": [
        "Input 값은 항상 문자열(string)이다."
      ]
    },
    {
      "metadata": {
        "id": "B-wEaalJKbAG",
        "colab_type": "code",
        "outputId": "81211841-b66f-403f-81c4-6eb96abcc996",
        "colab": {
          "base_uri": "https://localhost:8080/",
          "height": 53
        }
      },
      "cell_type": "code",
      "source": [
        "a = input()\n",
        "type(a)"
      ],
      "execution_count": 0,
      "outputs": [
        {
          "output_type": "stream",
          "text": [
            "10\n"
          ],
          "name": "stdout"
        },
        {
          "output_type": "execute_result",
          "data": {
            "text/plain": [
              "str"
            ]
          },
          "metadata": {
            "tags": []
          },
          "execution_count": 18
        }
      ]
    },
    {
      "metadata": {
        "id": "iD-YdQUALBf-",
        "colab_type": "code",
        "outputId": "1a88c7d7-977e-4b20-8aec-8fcbbc922b02",
        "colab": {
          "base_uri": "https://localhost:8080/",
          "height": 71
        }
      },
      "cell_type": "code",
      "source": [
        "a = int(input('숫자를 입력하세요: ')) # 제대로 더하려면\n",
        "b = int(input('숫자를 입력하세요: ')) # 실수를 더하려면 int 대신에 float 함수를 사용하면 된다.\n",
        "print(a + b)"
      ],
      "execution_count": 0,
      "outputs": [
        {
          "output_type": "stream",
          "text": [
            "숫자를 입력하세요: 40\n",
            "숫자를 입력하세요: 30\n",
            "70\n"
          ],
          "name": "stdout"
        }
      ]
    },
    {
      "metadata": {
        "id": "xh-e5jR2L0bA",
        "colab_type": "text"
      },
      "cell_type": "markdown",
      "source": [
        "<h2>입력값을 변수 두 개에 저장하기</h2>\n",
        "<br>변수1, 변수2 = input('문자열').split('기준 문자열')"
      ]
    },
    {
      "metadata": {
        "id": "G-emItFxLTBm",
        "colab_type": "code",
        "outputId": "1f516256-1669-43db-8e5b-5e98b0cb6417",
        "colab": {
          "base_uri": "https://localhost:8080/",
          "height": 53
        }
      },
      "cell_type": "code",
      "source": [
        "a, b = input('문자열 두 개를 입력하세요: ').split()\n",
        "print(a + b) # 문자열은 split으로 분리해도 문자열 "
      ],
      "execution_count": 0,
      "outputs": [
        {
          "output_type": "stream",
          "text": [
            "문자열 두 개를 입력하세요: 10 20\n",
            "1020\n"
          ],
          "name": "stdout"
        }
      ]
    },
    {
      "metadata": {
        "id": "YSZYoPNEMxht",
        "colab_type": "code",
        "outputId": "687db90f-409b-4284-88ab-ad7cd7af1c69",
        "colab": {
          "base_uri": "https://localhost:8080/",
          "height": 53
        }
      },
      "cell_type": "code",
      "source": [
        "a, b = input('문자열 두 개를 입력하세요: ').split()\n",
        "print(int(a) + int(b)) # 숫자로 더하려면 정수로 변환"
      ],
      "execution_count": 0,
      "outputs": [
        {
          "output_type": "stream",
          "text": [
            "문자열 두 개를 입력하세요: 10 20\n",
            "30\n"
          ],
          "name": "stdout"
        }
      ]
    },
    {
      "metadata": {
        "id": "HMnFp_UHAAvm",
        "colab_type": "code",
        "colab": {
          "base_uri": "https://localhost:8080/",
          "height": 53
        },
        "outputId": "deb83925-a19f-48f8-d047-c75de143e6b3"
      },
      "cell_type": "code",
      "source": [
        "a, b = map(int, input('문자열 두 개를 입력하세요: ').split()) # 문자열을 한번에 지수로 바꾸는 방법 map함수\n",
        "print(a + b)"
      ],
      "execution_count": 7,
      "outputs": [
        {
          "output_type": "stream",
          "text": [
            "문자열 두 개를 입력하세요: 10 20\n",
            "30\n"
          ],
          "name": "stdout"
        }
      ]
    },
    {
      "metadata": {
        "id": "vgctJqWUCW8-",
        "colab_type": "text"
      },
      "cell_type": "markdown",
      "source": [
        "<h1>Unit7. 출력 방법 알아보기</h1>\n",
        "<br><h2>값을 여러 개 출력하기</h2>"
      ]
    },
    {
      "metadata": {
        "id": "qo1Jj6uzBf99",
        "colab_type": "code",
        "colab": {
          "base_uri": "https://localhost:8080/",
          "height": 35
        },
        "outputId": "7e00952a-1e91-4cc1-ebfa-5999b02fccf9"
      },
      "cell_type": "code",
      "source": [
        "print(a, b, 20)"
      ],
      "execution_count": 8,
      "outputs": [
        {
          "output_type": "stream",
          "text": [
            "10 20 20\n"
          ],
          "name": "stdout"
        }
      ]
    },
    {
      "metadata": {
        "id": "n22UB5huCNT8",
        "colab_type": "code",
        "colab": {
          "base_uri": "https://localhost:8080/",
          "height": 35
        },
        "outputId": "8ac23b1c-a4ab-491e-bd1a-1a7d7c75a414"
      },
      "cell_type": "code",
      "source": [
        "print(a, b, 20, sep='')"
      ],
      "execution_count": 9,
      "outputs": [
        {
          "output_type": "stream",
          "text": [
            "102020\n"
          ],
          "name": "stdout"
        }
      ]
    },
    {
      "metadata": {
        "id": "VLgJL2yxCR-0",
        "colab_type": "code",
        "colab": {
          "base_uri": "https://localhost:8080/",
          "height": 35
        },
        "outputId": "b085a26c-6d7b-409f-fb22-2fc91dcbe92e"
      },
      "cell_type": "code",
      "source": [
        "print(a, b, 20, sep=', ')"
      ],
      "execution_count": 10,
      "outputs": [
        {
          "output_type": "stream",
          "text": [
            "10, 20, 20\n"
          ],
          "name": "stdout"
        }
      ]
    },
    {
      "metadata": {
        "id": "tiLk5Zw1CVds",
        "colab_type": "code",
        "colab": {
          "base_uri": "https://localhost:8080/",
          "height": 35
        },
        "outputId": "4bba8d38-203d-45e1-943e-39783ac4cda9"
      },
      "cell_type": "code",
      "source": [
        "print(1920, 1080, sep='x')"
      ],
      "execution_count": 11,
      "outputs": [
        {
          "output_type": "stream",
          "text": [
            "1920x1080\n"
          ],
          "name": "stdout"
        }
      ]
    },
    {
      "metadata": {
        "id": "Y_uXhwGwDGer",
        "colab_type": "text"
      },
      "cell_type": "markdown",
      "source": [
        "<h2>제어 문자</h2>"
      ]
    },
    {
      "metadata": {
        "id": "_-IQm-IvCxn8",
        "colab_type": "code",
        "colab": {
          "base_uri": "https://localhost:8080/",
          "height": 71
        },
        "outputId": "c7766833-e396-4352-d2c7-19c559bd0923"
      },
      "cell_type": "code",
      "source": [
        "print(1, 2, 3, sep='\\n')"
      ],
      "execution_count": 12,
      "outputs": [
        {
          "output_type": "stream",
          "text": [
            "1\n",
            "2\n",
            "3\n"
          ],
          "name": "stdout"
        }
      ]
    },
    {
      "metadata": {
        "id": "Q4dKbSwLDOHM",
        "colab_type": "code",
        "colab": {
          "base_uri": "https://localhost:8080/",
          "height": 136
        },
        "outputId": "3b8c41e9-615e-41d7-f28d-174070737859"
      },
      "cell_type": "code",
      "source": [
        "print(1\\n2\\n3) # 제어 문자는 '문자'"
      ],
      "execution_count": 13,
      "outputs": [
        {
          "output_type": "error",
          "ename": "SyntaxError",
          "evalue": "ignored",
          "traceback": [
            "\u001b[0;36m  File \u001b[0;32m\"<ipython-input-13-0933191a107b>\"\u001b[0;36m, line \u001b[0;32m1\u001b[0m\n\u001b[0;31m    print(1\\n2\\n3)\u001b[0m\n\u001b[0m                  ^\u001b[0m\n\u001b[0;31mSyntaxError\u001b[0m\u001b[0;31m:\u001b[0m unexpected character after line continuation character\n"
          ]
        }
      ]
    },
    {
      "metadata": {
        "id": "qkET2mRfDQKE",
        "colab_type": "code",
        "colab": {
          "base_uri": "https://localhost:8080/",
          "height": 71
        },
        "outputId": "071d868d-6310-4ade-b618-fb0658a11400"
      },
      "cell_type": "code",
      "source": [
        "print('1\\n2\\n3') # 문자열에서 사용하면 가능"
      ],
      "execution_count": 14,
      "outputs": [
        {
          "output_type": "stream",
          "text": [
            "1\n",
            "2\n",
            "3\n"
          ],
          "name": "stdout"
        }
      ]
    },
    {
      "metadata": {
        "id": "vwRb7_DvDfJ8",
        "colab_type": "code",
        "colab": {
          "base_uri": "https://localhost:8080/",
          "height": 35
        },
        "outputId": "a33d4666-0a8b-40d0-b654-109d66a5be0b"
      },
      "cell_type": "code",
      "source": [
        "print('\\\\n') # \\ 문자 자체를 출력할때는 두 번 쓴다."
      ],
      "execution_count": 15,
      "outputs": [
        {
          "output_type": "stream",
          "text": [
            "\\n\n"
          ],
          "name": "stdout"
        }
      ]
    },
    {
      "metadata": {
        "id": "aua26hG9EDJV",
        "colab_type": "text"
      },
      "cell_type": "markdown",
      "source": [
        "<h2>end 활용하기</h2>"
      ]
    },
    {
      "metadata": {
        "id": "sBcFts0GEKi2",
        "colab_type": "code",
        "colab": {
          "base_uri": "https://localhost:8080/",
          "height": 71
        },
        "outputId": "22cce958-346e-407f-ff3f-7e75fda367a1"
      },
      "cell_type": "code",
      "source": [
        "print(10)\n",
        "print(20)\n",
        "print(30)"
      ],
      "execution_count": 16,
      "outputs": [
        {
          "output_type": "stream",
          "text": [
            "10\n",
            "20\n",
            "30\n"
          ],
          "name": "stdout"
        }
      ]
    },
    {
      "metadata": {
        "id": "2v_XWBEYEQ_E",
        "colab_type": "code",
        "colab": {
          "base_uri": "https://localhost:8080/",
          "height": 35
        },
        "outputId": "380c0130-cad7-4a9e-b027-f824aae7e135"
      },
      "cell_type": "code",
      "source": [
        "print(10, end='') # print에는 기본적으로 end값에 \\n가 내장 end 값에 공백을 넣으면 \\n가 지워지는 효과\n",
        "print(20, end='')\n",
        "print(30)"
      ],
      "execution_count": 17,
      "outputs": [
        {
          "output_type": "stream",
          "text": [
            "102030\n"
          ],
          "name": "stdout"
        }
      ]
    },
    {
      "metadata": {
        "id": "t9NgnBVCEZcM",
        "colab_type": "code",
        "colab": {
          "base_uri": "https://localhost:8080/",
          "height": 35
        },
        "outputId": "f6f1118c-2512-41a2-a0c6-a004092b17b3"
      },
      "cell_type": "code",
      "source": [
        "print(10, end=' ') # end 값에 한 칸을 띄면 다음과 같이 한 칸씩 띄어진다.\n",
        "print(20, end=' ')\n",
        "print(30)"
      ],
      "execution_count": 18,
      "outputs": [
        {
          "output_type": "stream",
          "text": [
            "10 20 30\n"
          ],
          "name": "stdout"
        }
      ]
    },
    {
      "metadata": {
        "id": "700Ln1-vEyIb",
        "colab_type": "code",
        "colab": {}
      },
      "cell_type": "code",
      "source": [
        ""
      ],
      "execution_count": 0,
      "outputs": []
    }
  ]
}