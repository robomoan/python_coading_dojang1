{
  "nbformat": 4,
  "nbformat_minor": 0,
  "metadata": {
    "colab": {
      "name": "unit3,4",
      "version": "0.3.2",
      "provenance": [],
      "include_colab_link": true
    },
    "kernelspec": {
      "name": "python3",
      "display_name": "Python 3"
    }
  },
  "cells": [
    {
      "cell_type": "markdown",
      "metadata": {
        "id": "view-in-github",
        "colab_type": "text"
      },
      "source": [
        "<a href=\"https://colab.research.google.com/github/robomoan/python_coading_dojang1/blob/master/unit3%2C4.ipynb\" target=\"_parent\"><img src=\"https://colab.research.google.com/assets/colab-badge.svg\" alt=\"Open In Colab\"/></a>"
      ]
    },
    {
      "metadata": {
        "id": "3MW6JDew7V39",
        "colab_type": "text"
      },
      "cell_type": "markdown",
      "source": [
        "<h1>Unit3. Hello World! 로 시작하기</h1>"
      ]
    },
    {
      "metadata": {
        "id": "a527uEbw701H",
        "colab_type": "text"
      },
      "cell_type": "markdown",
      "source": [
        "<h2>IDLE에서 Hello World! 출력해보기</h2>"
      ]
    },
    {
      "metadata": {
        "id": "anrHyVSC8CFe",
        "colab_type": "code",
        "outputId": "1bdf2b78-4b5f-42b9-cbcc-2f62f14eaf05",
        "colab": {
          "base_uri": "https://localhost:8080/",
          "height": 35
        }
      },
      "cell_type": "code",
      "source": [
        "print(\"Hello World!\")"
      ],
      "execution_count": 0,
      "outputs": [
        {
          "output_type": "stream",
          "text": [
            "Hello World!\n"
          ],
          "name": "stdout"
        }
      ]
    },
    {
      "metadata": {
        "id": "zHL0-9XH9pQI",
        "colab_type": "text"
      },
      "cell_type": "markdown",
      "source": [
        "코드를 한 줄 한 줄 실행해서 결과를 얻는 방식 → 인터프리터\n",
        "<br>Python Shell: IDLE 처럼 파이썬 코드를 직접 입력해서 실행하는 프로그램\n",
        "<br>Python Prompt\n",
        "<br>Python Shell은 인터프리터와 대화하듯이 코드를 처리함: 대화형 셸, Interactive mode\n",
        "<br>REPL 방식 (Read-Eval-Print Loop)\n"
      ]
    },
    {
      "metadata": {
        "id": "9x1SRKMm97Gw",
        "colab_type": "code",
        "outputId": "668e0515-fa34-4561-ed61-d62862188473",
        "colab": {
          "base_uri": "https://localhost:8080/",
          "height": 134
        }
      },
      "cell_type": "code",
      "source": [
        "print(Hello World!)"
      ],
      "execution_count": 0,
      "outputs": [
        {
          "output_type": "error",
          "ename": "SyntaxError",
          "evalue": "ignored",
          "traceback": [
            "\u001b[0;36m  File \u001b[0;32m\"<ipython-input-2-898d2b40ca9e>\"\u001b[0;36m, line \u001b[0;32m1\u001b[0m\n\u001b[0;31m    print(Hello World!)\u001b[0m\n\u001b[0m                    ^\u001b[0m\n\u001b[0;31mSyntaxError\u001b[0m\u001b[0;31m:\u001b[0m invalid syntax\n"
          ]
        }
      ]
    },
    {
      "metadata": {
        "id": "WLzR0YvT_xxc",
        "colab_type": "text"
      },
      "cell_type": "markdown",
      "source": [
        "따옴표를 넣지 않을 경우 오류 발생"
      ]
    },
    {
      "metadata": {
        "id": "ltOS_oqsCI5r",
        "colab_type": "text"
      },
      "cell_type": "markdown",
      "source": [
        "<h2>명령프롬프트에서 Python 실행하기</h2>"
      ]
    },
    {
      "metadata": {
        "id": "9c6XCTc4CQVd",
        "colab_type": "text"
      },
      "cell_type": "markdown",
      "source": [
        "Python 설치할 때 Add Python 3.X to PATH 에 체크"
      ]
    },
    {
      "metadata": {
        "id": "yPlGwuUMegzK",
        "colab_type": "text"
      },
      "cell_type": "markdown",
      "source": [
        "<h2>소스코드</h2>\n",
        "<br>단어 뒤에 괄호 ()가 붙은 것: 함수(function)\n",
        "<br>함수를 '호출(call)'한다."
      ]
    },
    {
      "metadata": {
        "id": "6rH-xzgcn_AA",
        "colab_type": "text"
      },
      "cell_type": "markdown",
      "source": [
        "<h1>Unit4. 기본 문법</h1>\n",
        "<br><h2>세미콜론</h2>"
      ]
    },
    {
      "metadata": {
        "id": "5G2atrAOAqXy",
        "colab_type": "code",
        "colab": {
          "base_uri": "https://localhost:8080/",
          "height": 71
        },
        "outputId": "ed29a81a-e3f1-4ce8-951b-2816e2afde8c"
      },
      "cell_type": "code",
      "source": [
        "print('Hello, World!')\n",
        "print('Wow'); print('Good!')"
      ],
      "execution_count": 1,
      "outputs": [
        {
          "output_type": "stream",
          "text": [
            "Hello, World!\n",
            "Wow\n",
            "Good!\n"
          ],
          "name": "stdout"
        }
      ]
    },
    {
      "metadata": {
        "id": "gL9NwoCmpMoC",
        "colab_type": "text"
      },
      "cell_type": "markdown",
      "source": [
        "파이썬은 구문 끝에 세미콜론을 붙이지 않음.\n",
        "<br>세미콜론은 한 줄에 여러 구문을 작성할 때 사용."
      ]
    },
    {
      "metadata": {
        "id": "9O9gh41UonNk",
        "colab_type": "code",
        "colab": {}
      },
      "cell_type": "code",
      "source": [
        ""
      ],
      "execution_count": 0,
      "outputs": []
    }
  ]
}