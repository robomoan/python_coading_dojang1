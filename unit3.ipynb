{
  "nbformat": 4,
  "nbformat_minor": 0,
  "metadata": {
    "colab": {
      "name": "unit3",
      "version": "0.3.2",
      "provenance": [],
      "include_colab_link": true
    },
    "kernelspec": {
      "name": "python3",
      "display_name": "Python 3"
    }
  },
  "cells": [
    {
      "cell_type": "markdown",
      "metadata": {
        "id": "view-in-github",
        "colab_type": "text"
      },
      "source": [
        "<a href=\"https://colab.research.google.com/github/robomoan/python_coading_dojang1/blob/master/unit3.ipynb\" target=\"_parent\"><img src=\"https://colab.research.google.com/assets/colab-badge.svg\" alt=\"Open In Colab\"/></a>"
      ]
    },
    {
      "metadata": {
        "id": "3MW6JDew7V39",
        "colab_type": "text"
      },
      "cell_type": "markdown",
      "source": [
        "<h1>**Unit3. Hello World! 로 시작하기**</h1>"
      ]
    },
    {
      "metadata": {
        "id": "a527uEbw701H",
        "colab_type": "text"
      },
      "cell_type": "markdown",
      "source": [
        "<h2>IDLE에서 Hello World! 출력해보기</h2>"
      ]
    },
    {
      "metadata": {
        "id": "anrHyVSC8CFe",
        "colab_type": "code",
        "colab": {
          "base_uri": "https://localhost:8080/",
          "height": 35
        },
        "outputId": "1bdf2b78-4b5f-42b9-cbcc-2f62f14eaf05"
      },
      "cell_type": "code",
      "source": [
        "print(\"Hello World!\")"
      ],
      "execution_count": 1,
      "outputs": [
        {
          "output_type": "stream",
          "text": [
            "Hello World!\n"
          ],
          "name": "stdout"
        }
      ]
    },
    {
      "metadata": {
        "id": "zHL0-9XH9pQI",
        "colab_type": "text"
      },
      "cell_type": "markdown",
      "source": [
        "코드를 한 줄 한 줄 실행해서 결과를 얻는 방식 → 인터프리터\n",
        "<br>Python Shell: IDLE 처럼 파이썬 코드를 직접 입력해서 실행하는 프로그램\n",
        "<br>Python Prompt\n",
        "<br>Python Shell은 인터프리터와 대화하듯이 코드를 처리함: 대화형 셸, Interactive mode\n",
        "<br>REPL 방식 (Read-Eval-Print Loop)\n"
      ]
    },
    {
      "metadata": {
        "id": "9x1SRKMm97Gw",
        "colab_type": "code",
        "colab": {
          "base_uri": "https://localhost:8080/",
          "height": 134
        },
        "outputId": "668e0515-fa34-4561-ed61-d62862188473"
      },
      "cell_type": "code",
      "source": [
        "print(Hello World!)"
      ],
      "execution_count": 2,
      "outputs": [
        {
          "output_type": "error",
          "ename": "SyntaxError",
          "evalue": "ignored",
          "traceback": [
            "\u001b[0;36m  File \u001b[0;32m\"<ipython-input-2-898d2b40ca9e>\"\u001b[0;36m, line \u001b[0;32m1\u001b[0m\n\u001b[0;31m    print(Hello World!)\u001b[0m\n\u001b[0m                    ^\u001b[0m\n\u001b[0;31mSyntaxError\u001b[0m\u001b[0;31m:\u001b[0m invalid syntax\n"
          ]
        }
      ]
    },
    {
      "metadata": {
        "id": "WLzR0YvT_xxc",
        "colab_type": "text"
      },
      "cell_type": "markdown",
      "source": [
        "따옴표를 넣지 않을 경우 오류 발생"
      ]
    }
  ]
}